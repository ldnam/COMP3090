{
  "cells": [
    {
      "cell_type": "markdown",
      "metadata": {
        "id": "G_qk9SghsXVY"
      },
      "source": [
        "# SNA\n",
        "## Android malware detector\n",
        "\n",
        "Authors:\n",
        "\n",
        "Nguyen Minh Tuan\n",
        "\n",
        "\n",
        "Le Dinh Nam\n",
        "\n",
        "\n",
        "Nguyen Thai Hung\n",
        "\n",
        "\n",
        "This file contains the first two tasks."
      ]
    },
    {
      "cell_type": "markdown",
      "metadata": {
        "id": "oTp7L7IVsXVZ"
      },
      "source": [
        "## Task 1\n",
        "<font color='gray'>Use one classifier family with default parameters, train with the training data and evaluate it with the test data (both with the processed features). To evaluate on the test data, I am interested in the confusion matrix, accuracy, precision, recall, and F1 measure. You need to adequately interpret the results obtained with these metrics.</font>"
      ]
    },
    {
      "cell_type": "code",
      "execution_count": null,
      "metadata": {
        "id": "tx_IMHKisXVZ"
      },
      "outputs": [],
      "source": [
        "# libraries\n",
        "import numpy as np\n",
        "import pandas as pd\n",
        "import seaborn as sns\n",
        "import matplotlib.pyplot as plt\n",
        "import pickle\n",
        "import os\n",
        "\n",
        "# sklearn\n",
        "from sklearn.model_selection import train_test_split\n",
        "from sklearn.preprocessing import StandardScaler\n",
        "from sklearn import metrics\n",
        "from sklearn.model_selection import KFold\n",
        "from sklearn.model_selection import GridSearchCV\n",
        "from sklearn.base import BaseEstimator\n",
        "\n",
        "from sklearn.linear_model import LogisticRegression\n",
        "from sklearn.linear_model import RidgeClassifier\n",
        "from sklearn.tree import DecisionTreeClassifier\n",
        "from sklearn.svm import SVC\n",
        "from sklearn.neighbors import KNeighborsClassifier\n",
        "\n",
        "# necessary paths\n",
        "feature_of_counts = \"./data/processed_data/feature_vectors_counts.csv\"\n",
        "\n",
        "# Random Seed for reproducible experiments\n",
        "RS = 42\n",
        "np.random.seed(RS)"
      ]
    },
    {
      "cell_type": "code",
      "execution_count": null,
      "metadata": {
        "id": "7X_QGHYcsXVa",
        "outputId": "af7960df-2320-4b96-b1c6-4982f0639851"
      },
      "outputs": [
        {
          "data": {
            "text/html": [
              "<div>\n",
              "<style scoped>\n",
              "    .dataframe tbody tr th:only-of-type {\n",
              "        vertical-align: middle;\n",
              "    }\n",
              "\n",
              "    .dataframe tbody tr th {\n",
              "        vertical-align: top;\n",
              "    }\n",
              "\n",
              "    .dataframe thead th {\n",
              "        text-align: right;\n",
              "    }\n",
              "</style>\n",
              "<table border=\"1\" class=\"dataframe\">\n",
              "  <thead>\n",
              "    <tr style=\"text-align: right;\">\n",
              "      <th></th>\n",
              "      <th>sha256</th>\n",
              "      <th>s1</th>\n",
              "      <th>s2</th>\n",
              "      <th>s3</th>\n",
              "      <th>s4</th>\n",
              "      <th>s5</th>\n",
              "      <th>s6</th>\n",
              "      <th>s7</th>\n",
              "      <th>s8</th>\n",
              "      <th>malware</th>\n",
              "    </tr>\n",
              "  </thead>\n",
              "  <tbody>\n",
              "    <tr>\n",
              "      <th>0</th>\n",
              "      <td>439aa0775930d00bae3db3546eaf309b4f64019524b002...</td>\n",
              "      <td>1</td>\n",
              "      <td>2</td>\n",
              "      <td>15</td>\n",
              "      <td>6</td>\n",
              "      <td>3</td>\n",
              "      <td>2</td>\n",
              "      <td>5</td>\n",
              "      <td>18</td>\n",
              "      <td>False</td>\n",
              "    </tr>\n",
              "    <tr>\n",
              "      <th>1</th>\n",
              "      <td>654b4564aea51c03ad1d38401dba63fbaa9329378f3405...</td>\n",
              "      <td>6</td>\n",
              "      <td>5</td>\n",
              "      <td>1</td>\n",
              "      <td>2</td>\n",
              "      <td>3</td>\n",
              "      <td>3</td>\n",
              "      <td>4</td>\n",
              "      <td>9</td>\n",
              "      <td>False</td>\n",
              "    </tr>\n",
              "    <tr>\n",
              "      <th>2</th>\n",
              "      <td>83ac70838e9a6e33ec057d90ea1a4f7ad57c90e4e98ee9...</td>\n",
              "      <td>2</td>\n",
              "      <td>0</td>\n",
              "      <td>2</td>\n",
              "      <td>2</td>\n",
              "      <td>2</td>\n",
              "      <td>1</td>\n",
              "      <td>1</td>\n",
              "      <td>4</td>\n",
              "      <td>False</td>\n",
              "    </tr>\n",
              "    <tr>\n",
              "      <th>3</th>\n",
              "      <td>1a87d8b10f9969a310b34d7b4b70898ab3e834a820d59b...</td>\n",
              "      <td>1</td>\n",
              "      <td>3</td>\n",
              "      <td>3</td>\n",
              "      <td>2</td>\n",
              "      <td>3</td>\n",
              "      <td>2</td>\n",
              "      <td>4</td>\n",
              "      <td>11</td>\n",
              "      <td>False</td>\n",
              "    </tr>\n",
              "    <tr>\n",
              "      <th>4</th>\n",
              "      <td>e4393b74e3299d4a881ce54086a55c9ece37602c390618...</td>\n",
              "      <td>2</td>\n",
              "      <td>0</td>\n",
              "      <td>4</td>\n",
              "      <td>2</td>\n",
              "      <td>1</td>\n",
              "      <td>1</td>\n",
              "      <td>1</td>\n",
              "      <td>0</td>\n",
              "      <td>False</td>\n",
              "    </tr>\n",
              "  </tbody>\n",
              "</table>\n",
              "</div>"
            ],
            "text/plain": [
              "                                              sha256  s1  s2  s3  s4  s5  s6  \\\n",
              "0  439aa0775930d00bae3db3546eaf309b4f64019524b002...   1   2  15   6   3   2   \n",
              "1  654b4564aea51c03ad1d38401dba63fbaa9329378f3405...   6   5   1   2   3   3   \n",
              "2  83ac70838e9a6e33ec057d90ea1a4f7ad57c90e4e98ee9...   2   0   2   2   2   1   \n",
              "3  1a87d8b10f9969a310b34d7b4b70898ab3e834a820d59b...   1   3   3   2   3   2   \n",
              "4  e4393b74e3299d4a881ce54086a55c9ece37602c390618...   2   0   4   2   1   1   \n",
              "\n",
              "   s7  s8  malware  \n",
              "0   5  18    False  \n",
              "1   4   9    False  \n",
              "2   1   4    False  \n",
              "3   4  11    False  \n",
              "4   1   0    False  "
            ]
          },
          "metadata": {},
          "output_type": "display_data"
        }
      ],
      "source": [
        "# data exploration\n",
        "dataset = pd.read_csv(feature_of_counts, index_col=0)\n",
        "\n",
        "# as defined in data_extraction.py\n",
        "# \"feature\": s1,\n",
        "# \"permission\": s2,\n",
        "# \"activity\": s3,\n",
        "# \"service_receiver\": s3,\n",
        "# \"provider\": s3,\n",
        "# \"service\": s3,\n",
        "# \"intent\": s4,\n",
        "# \"api_call\": s5,\n",
        "# \"real_permission\": s6,\n",
        "# \"call\": s7,\n",
        "# \"url\": s8\n",
        "display(dataset.head())"
      ]
    },
    {
      "cell_type": "code",
      "execution_count": null,
      "metadata": {
        "id": "GOgQXWWgsXVa",
        "outputId": "68a914cc-eeb0-4282-a9a0-cc657cf939bd"
      },
      "outputs": [
        {
          "name": "stdout",
          "output_type": "stream",
          "text": [
            "Number of Benignware: 123453\n",
            "Number of Malware: 5560\n"
          ]
        }
      ],
      "source": [
        "num_beningware = len(dataset[dataset['malware'] == False])\n",
        "num_malware = len(dataset[dataset['malware'] == True])\n",
        "\n",
        "print(\"Number of Benignware:\", num_beningware)\n",
        "print(\"Number of Malware:\", num_malware)"
      ]
    },
    {
      "cell_type": "code",
      "execution_count": null,
      "metadata": {
        "id": "CJ2a3cAdsXVb",
        "outputId": "2079de44-1336-4fee-8ec3-7177da5d2c1f"
      },
      "outputs": [
        {
          "name": "stdout",
          "output_type": "stream",
          "text": [
            "Number of Benignware: 5560\n",
            "Number of Malware: 5560\n"
          ]
        }
      ],
      "source": [
        "# Undersampling\n",
        "\n",
        "benigware_indices = dataset[dataset.malware == False].index\n",
        "benigware_indices_to_drop = np.random.choice(benigware_indices, num_beningware - num_malware, replace=False)\n",
        "dataset = dataset.drop(benigware_indices_to_drop)\n",
        "\n",
        "num_beningware = len(dataset[dataset['malware'] == False])\n",
        "num_malware = len(dataset[dataset['malware'] == True])\n",
        "\n",
        "print(\"Number of Benignware:\", num_beningware)\n",
        "print(\"Number of Malware:\", num_malware)"
      ]
    },
    {
      "cell_type": "code",
      "execution_count": null,
      "metadata": {
        "id": "gJQM8RK2sXVb",
        "outputId": "56d6d474-e7a2-43bc-ba5c-1119d98fe870"
      },
      "outputs": [
        {
          "data": {
            "text/html": [
              "<div>\n",
              "<style scoped>\n",
              "    .dataframe tbody tr th:only-of-type {\n",
              "        vertical-align: middle;\n",
              "    }\n",
              "\n",
              "    .dataframe tbody tr th {\n",
              "        vertical-align: top;\n",
              "    }\n",
              "\n",
              "    .dataframe thead th {\n",
              "        text-align: right;\n",
              "    }\n",
              "</style>\n",
              "<table border=\"1\" class=\"dataframe\">\n",
              "  <thead>\n",
              "    <tr style=\"text-align: right;\">\n",
              "      <th></th>\n",
              "      <th>s1</th>\n",
              "      <th>s2</th>\n",
              "      <th>s3</th>\n",
              "      <th>s4</th>\n",
              "      <th>s5</th>\n",
              "      <th>s6</th>\n",
              "      <th>s7</th>\n",
              "      <th>s8</th>\n",
              "    </tr>\n",
              "  </thead>\n",
              "  <tbody>\n",
              "    <tr>\n",
              "      <th>12</th>\n",
              "      <td>1</td>\n",
              "      <td>5</td>\n",
              "      <td>2</td>\n",
              "      <td>2</td>\n",
              "      <td>4</td>\n",
              "      <td>4</td>\n",
              "      <td>6</td>\n",
              "      <td>11</td>\n",
              "    </tr>\n",
              "    <tr>\n",
              "      <th>30</th>\n",
              "      <td>6</td>\n",
              "      <td>25</td>\n",
              "      <td>12</td>\n",
              "      <td>4</td>\n",
              "      <td>12</td>\n",
              "      <td>11</td>\n",
              "      <td>8</td>\n",
              "      <td>42</td>\n",
              "    </tr>\n",
              "    <tr>\n",
              "      <th>48</th>\n",
              "      <td>2</td>\n",
              "      <td>3</td>\n",
              "      <td>1</td>\n",
              "      <td>2</td>\n",
              "      <td>1</td>\n",
              "      <td>1</td>\n",
              "      <td>2</td>\n",
              "      <td>0</td>\n",
              "    </tr>\n",
              "    <tr>\n",
              "      <th>58</th>\n",
              "      <td>2</td>\n",
              "      <td>4</td>\n",
              "      <td>1</td>\n",
              "      <td>2</td>\n",
              "      <td>3</td>\n",
              "      <td>2</td>\n",
              "      <td>4</td>\n",
              "      <td>6</td>\n",
              "    </tr>\n",
              "    <tr>\n",
              "      <th>63</th>\n",
              "      <td>6</td>\n",
              "      <td>9</td>\n",
              "      <td>7</td>\n",
              "      <td>2</td>\n",
              "      <td>9</td>\n",
              "      <td>8</td>\n",
              "      <td>11</td>\n",
              "      <td>64</td>\n",
              "    </tr>\n",
              "  </tbody>\n",
              "</table>\n",
              "</div>"
            ],
            "text/plain": [
              "    s1  s2  s3  s4  s5  s6  s7  s8\n",
              "12   1   5   2   2   4   4   6  11\n",
              "30   6  25  12   4  12  11   8  42\n",
              "48   2   3   1   2   1   1   2   0\n",
              "58   2   4   1   2   3   2   4   6\n",
              "63   6   9   7   2   9   8  11  64"
            ]
          },
          "metadata": {},
          "output_type": "display_data"
        },
        {
          "data": {
            "text/plain": [
              "12     True\n",
              "30     True\n",
              "48     True\n",
              "58    False\n",
              "63    False\n",
              "Name: malware, dtype: bool"
            ]
          },
          "metadata": {},
          "output_type": "display_data"
        }
      ],
      "source": [
        "X = dataset.drop(columns=['sha256', 'malware'])\n",
        "y = dataset['malware']\n",
        "\n",
        "display(X.head(5))\n",
        "display(y.head(5))"
      ]
    },
    {
      "cell_type": "code",
      "execution_count": null,
      "metadata": {
        "id": "JlXIm83ssXVb"
      },
      "outputs": [],
      "source": [
        "# split dataset into training and testing\n",
        "X_train, X_test, y_train, y_test = train_test_split(X, y, test_size = 0.2, random_state = RS)\n",
        "\n",
        "# preprocess data\n",
        "sc = StandardScaler()\n",
        "X_train_scaled = sc.fit_transform(X_train)\n",
        "X_test_scaled = sc.transform(X_test)"
      ]
    },
    {
      "cell_type": "code",
      "execution_count": null,
      "metadata": {
        "id": "Mq8CZEsMsXVb",
        "outputId": "13637796-d0a9-4cce-d291-2e21f5e6a9ab"
      },
      "outputs": [
        {
          "data": {
            "text/html": [
              "<style>#sk-container-id-1 {color: black;background-color: white;}#sk-container-id-1 pre{padding: 0;}#sk-container-id-1 div.sk-toggleable {background-color: white;}#sk-container-id-1 label.sk-toggleable__label {cursor: pointer;display: block;width: 100%;margin-bottom: 0;padding: 0.3em;box-sizing: border-box;text-align: center;}#sk-container-id-1 label.sk-toggleable__label-arrow:before {content: \"▸\";float: left;margin-right: 0.25em;color: #696969;}#sk-container-id-1 label.sk-toggleable__label-arrow:hover:before {color: black;}#sk-container-id-1 div.sk-estimator:hover label.sk-toggleable__label-arrow:before {color: black;}#sk-container-id-1 div.sk-toggleable__content {max-height: 0;max-width: 0;overflow: hidden;text-align: left;background-color: #f0f8ff;}#sk-container-id-1 div.sk-toggleable__content pre {margin: 0.2em;color: black;border-radius: 0.25em;background-color: #f0f8ff;}#sk-container-id-1 input.sk-toggleable__control:checked~div.sk-toggleable__content {max-height: 200px;max-width: 100%;overflow: auto;}#sk-container-id-1 input.sk-toggleable__control:checked~label.sk-toggleable__label-arrow:before {content: \"▾\";}#sk-container-id-1 div.sk-estimator input.sk-toggleable__control:checked~label.sk-toggleable__label {background-color: #d4ebff;}#sk-container-id-1 div.sk-label input.sk-toggleable__control:checked~label.sk-toggleable__label {background-color: #d4ebff;}#sk-container-id-1 input.sk-hidden--visually {border: 0;clip: rect(1px 1px 1px 1px);clip: rect(1px, 1px, 1px, 1px);height: 1px;margin: -1px;overflow: hidden;padding: 0;position: absolute;width: 1px;}#sk-container-id-1 div.sk-estimator {font-family: monospace;background-color: #f0f8ff;border: 1px dotted black;border-radius: 0.25em;box-sizing: border-box;margin-bottom: 0.5em;}#sk-container-id-1 div.sk-estimator:hover {background-color: #d4ebff;}#sk-container-id-1 div.sk-parallel-item::after {content: \"\";width: 100%;border-bottom: 1px solid gray;flex-grow: 1;}#sk-container-id-1 div.sk-label:hover label.sk-toggleable__label {background-color: #d4ebff;}#sk-container-id-1 div.sk-serial::before {content: \"\";position: absolute;border-left: 1px solid gray;box-sizing: border-box;top: 0;bottom: 0;left: 50%;z-index: 0;}#sk-container-id-1 div.sk-serial {display: flex;flex-direction: column;align-items: center;background-color: white;padding-right: 0.2em;padding-left: 0.2em;position: relative;}#sk-container-id-1 div.sk-item {position: relative;z-index: 1;}#sk-container-id-1 div.sk-parallel {display: flex;align-items: stretch;justify-content: center;background-color: white;position: relative;}#sk-container-id-1 div.sk-item::before, #sk-container-id-1 div.sk-parallel-item::before {content: \"\";position: absolute;border-left: 1px solid gray;box-sizing: border-box;top: 0;bottom: 0;left: 50%;z-index: -1;}#sk-container-id-1 div.sk-parallel-item {display: flex;flex-direction: column;z-index: 1;position: relative;background-color: white;}#sk-container-id-1 div.sk-parallel-item:first-child::after {align-self: flex-end;width: 50%;}#sk-container-id-1 div.sk-parallel-item:last-child::after {align-self: flex-start;width: 50%;}#sk-container-id-1 div.sk-parallel-item:only-child::after {width: 0;}#sk-container-id-1 div.sk-dashed-wrapped {border: 1px dashed gray;margin: 0 0.4em 0.5em 0.4em;box-sizing: border-box;padding-bottom: 0.4em;background-color: white;}#sk-container-id-1 div.sk-label label {font-family: monospace;font-weight: bold;display: inline-block;line-height: 1.2em;}#sk-container-id-1 div.sk-label-container {text-align: center;}#sk-container-id-1 div.sk-container {/* jupyter's `normalize.less` sets `[hidden] { display: none; }` but bootstrap.min.css set `[hidden] { display: none !important; }` so we also need the `!important` here to be able to override the default hidden behavior on the sphinx rendered scikit-learn.org. See: https://github.com/scikit-learn/scikit-learn/issues/21755 */display: inline-block !important;position: relative;}#sk-container-id-1 div.sk-text-repr-fallback {display: none;}</style><div id=\"sk-container-id-1\" class=\"sk-top-container\"><div class=\"sk-text-repr-fallback\"><pre>LogisticRegression(random_state=42)</pre><b>In a Jupyter environment, please rerun this cell to show the HTML representation or trust the notebook. <br />On GitHub, the HTML representation is unable to render, please try loading this page with nbviewer.org.</b></div><div class=\"sk-container\" hidden><div class=\"sk-item\"><div class=\"sk-estimator sk-toggleable\"><input class=\"sk-toggleable__control sk-hidden--visually\" id=\"sk-estimator-id-1\" type=\"checkbox\" checked><label for=\"sk-estimator-id-1\" class=\"sk-toggleable__label sk-toggleable__label-arrow\">LogisticRegression</label><div class=\"sk-toggleable__content\"><pre>LogisticRegression(random_state=42)</pre></div></div></div></div></div>"
            ],
            "text/plain": [
              "LogisticRegression(random_state=42)"
            ]
          },
          "execution_count": 8,
          "metadata": {},
          "output_type": "execute_result"
        }
      ],
      "source": [
        "# train model\n",
        "clf = LogisticRegression(random_state=RS)\n",
        "clf.fit(X_train_scaled, y_train)"
      ]
    },
    {
      "cell_type": "code",
      "execution_count": null,
      "metadata": {
        "id": "HYpAWv2lsXVb"
      },
      "outputs": [],
      "source": [
        "# predict for test set\n",
        "predicted = clf.predict(X_test_scaled)"
      ]
    },
    {
      "cell_type": "code",
      "execution_count": null,
      "metadata": {
        "id": "XmUBhyH8sXVb"
      },
      "outputs": [],
      "source": [
        "# evaluation metrics\n",
        "def print_metrics(y_test, predicted):\n",
        "\tprint(\"acc       {:.4}\".format(metrics.accuracy_score(y_test, predicted)))\n",
        "\tprint(\"f1        {:.4}\".format(metrics.f1_score(y_test, predicted)))\n",
        "\tprint(\"precision {:.4}\".format(metrics.precision_score(y_test, predicted)))\n",
        "\tprint(\"recall    {:.4}\".format(metrics.recall_score(y_test, predicted)))\n",
        ""
      ]
    },
    {
      "cell_type": "code",
      "execution_count": null,
      "metadata": {
        "id": "5iuagPPQsXVb",
        "outputId": "a01445c9-0a3a-4f62-87da-830390caa68d"
      },
      "outputs": [
        {
          "name": "stdout",
          "output_type": "stream",
          "text": [
            "acc       0.8327\n",
            "f1        0.8206\n",
            "precision 0.8596\n",
            "recall    0.7851\n"
          ]
        }
      ],
      "source": [
        "print_metrics(y_test, predicted)"
      ]
    },
    {
      "cell_type": "code",
      "execution_count": null,
      "metadata": {
        "id": "auM4Po9zsXVb"
      },
      "outputs": [],
      "source": [
        "# confusion matrix\n",
        "def plot_conf_mat(y_test, predicted):\n",
        "\tconf_mat = metrics.confusion_matrix(y_test, predicted)\n",
        "\n",
        "\t# https://proclusacademy.com/blog/practical/confusion-matrix-accuracy-sklearn-seaborn/\n",
        "\t# Change figure size and increase dpi for better resolution\n",
        "\tplt.figure(figsize=(8,6), dpi=100)\n",
        "\t# Scale up the size of all text\n",
        "\tsns.set(font_scale = 1.1)\n",
        "\n",
        "\t# Plot Confusion Matrix using Seaborn heatmap()\n",
        "\t# Parameters:\n",
        "\t# first param - confusion matrix in array format\n",
        "\t# annot = True: show the numbers in each heatmap cell\n",
        "\t# fmt = 'd': show numbers as integers.\n",
        "\tax = sns.heatmap(conf_mat, annot=True, fmt='d', )\n",
        "\n",
        "\t# set x-axis label and ticks.\n",
        "\tax.set_xlabel(\"Predicted Diagnosis\", fontsize=14, labelpad=20)\n",
        "\tax.xaxis.set_ticklabels(['Negative', 'Positive'])\n",
        "\n",
        "\t# set y-axis label and ticks\n",
        "\tax.set_ylabel(\"Actual Diagnosis\", fontsize=14, labelpad=20)\n",
        "\tax.yaxis.set_ticklabels(['Negative', 'Positive'])\n",
        "\n",
        "\t# set plot title\n",
        "\tax.set_title(\"Confusion Matrix\", fontsize=14, pad=20)\n",
        "\n",
        "\tplt.show()"
      ]
    },
    {
      "cell_type": "code",
      "execution_count": null,
      "metadata": {
        "id": "VwPGXBsisXVc",
        "outputId": "de344191-4e25-4afa-93f5-755d85b57e2a"
      },
      "outputs": [
        {
          "data": {
            "image/png": "[encoded data removed]",
            "text/plain": [
              "<Figure size 800x600 with 2 Axes>"
            ]
          },
          "metadata": {},
          "output_type": "display_data"
        }
      ],
      "source": [
        "plot_conf_mat(y_test, predicted)"
      ]
    },
    {
      "cell_type": "markdown",
      "metadata": {
        "id": "zJg7c3GRsXVc"
      },
      "source": [
        "## Task 2\n",
        "<font color='gray'>Use several classifiers from different families and with different parameters beyond the default ones. Now, you will do cross-validation with the training data (you can choose the number of folds, e.g., the K), and compare the models. For this, you could simply use average AUC across folds for each model. However, note that the dataset is imbalanced (the number of benign instances is way higher than malicious ones), so you may want to use a balancing technique – for instance, under-sampling the benign class to end up with the same number of benign classes than malicious ones2. With the best resulting model from all those attempted, evaluate it on the test data, again with the confusion matrix, accuracy, precision, recall, and F1 measure. Importantly, you need to explain and justify your choices throughout the task and interpret the results adequately.</font>"
      ]
    },
    {
      "cell_type": "markdown",
      "metadata": {
        "id": "_mIW2HZ4sXVc"
      },
      "source": [
        "Models chosen:\n",
        "1. DecisionTree,\n",
        "1. SVC,\n",
        "1. LogisticRegression,\n",
        "1. RidgeClassifier,\n",
        "1. KNeighborsClassifier"
      ]
    },
    {
      "cell_type": "code",
      "execution_count": null,
      "metadata": {
        "id": "XHG48V_YsXVc"
      },
      "outputs": [],
      "source": [
        "CV_SPLITS = 5\n",
        "models = {}"
      ]
    },
    {
      "cell_type": "markdown",
      "metadata": {
        "id": "4YRlJJr7sXVc"
      },
      "source": [
        "To fine-tune hyperparameters of the models, we decided to use GridSearchCV. It allows us to specify a range of values for each hyperparameter, and it will exhaustively search over all possible combinations to determine the set of values that results in the highest model performance. It provides a build in cross-validation mechanism, so we don't have to implement it manually."
      ]
    },
    {
      "cell_type": "code",
      "execution_count": null,
      "metadata": {
        "id": "cDXQXn75sXVc"
      },
      "outputs": [],
      "source": [
        "def get_best_estimator(\n",
        "\testimator: BaseEstimator,\n",
        "\tparams_grid: dict,\n",
        "\tX: pd.DataFrame,\n",
        "\ty: pd.Series\n",
        "):\n",
        "\tclf = GridSearchCV(\n",
        "\t\testimator=estimator,\n",
        "\t\tparam_grid=params_grid,\n",
        "\t\tcv=KFold(n_splits=CV_SPLITS, shuffle=True, random_state=RS),\n",
        "\t\tn_jobs=5,\n",
        "\t\tscoring='roc_auc',\n",
        "\t\treturn_train_score=True\n",
        "\t)\n",
        "\n",
        "\tclf.fit(X, y)\n",
        "\n",
        "\tprint(f'Hyperparameters found:')\n",
        "\tdisplay(clf.best_params_)\n",
        "\tprint(f'Best score: {clf.best_score_:.4}')\n",
        "\n",
        "\treturn {'clf': clf.best_estimator_, 'auc': clf.best_score_, 'params': clf.best_params_}"
      ]
    },
    {
      "cell_type": "markdown",
      "metadata": {
        "id": "Qb_oNI2isXVc"
      },
      "source": [
        "To not re-train the models every time we run the notebook, we decided to save the best models to .pkl files."
      ]
    },
    {
      "cell_type": "code",
      "execution_count": null,
      "metadata": {
        "id": "TsuzaiussXVc"
      },
      "outputs": [],
      "source": [
        "models_path = \"./models/\"\n",
        "\n",
        "def try_to_load_model(name: str):\n",
        "    if os.path.exists(f'{models_path}{name}.pkl'):\n",
        "        with open(f'{models_path}{name}.pkl', 'rb') as f:\n",
        "            model_data = pickle.load(f)\n",
        "            print(f'Loaded {name} model from file')\n",
        "            print(f'Hyperparameters:')\n",
        "            display(model_data[\"params\"])\n",
        "            print(f'Best score: {model_data[\"auc\"]:.4}')\n",
        "            return model_data\n",
        "    else:\n",
        "        print(f'No {name} model found')\n",
        "        return None\n",
        "\n",
        "def save_model(name: str, model):\n",
        "    print(f'Saving {name} model to file')\n",
        "    with open(f'{models_path}{name}.pkl', 'wb') as f:\n",
        "        pickle.dump(model, f)"
      ]
    },
    {
      "cell_type": "markdown",
      "metadata": {
        "id": "2KmOAI2zsXVc"
      },
      "source": [
        "### [Decision Tree](https://scikit-learn.org/stable/modules/tree.html)"
      ]
    },
    {
      "cell_type": "markdown",
      "metadata": {
        "id": "3HtjHsVEsXVc"
      },
      "source": [
        "Decision trees are a popular choice for binary classification tasks because they are easy to interpret and visualize. They are widely use because they are able to automatically perform feature selection by choosing the most informative features to split on. However, decision trees can be prone to overfitting if they are too complex or the data is noisy. Furthermore, according to the scikit-learn documentation:\n",
        "> [Decision tree learners create biased trees if some classes dominate. It is therefore recommended to balance the dataset prior to fitting with the decision tree.](https://scikit-learn.org/stable/modules/tree.html#:~:text=Decision%20tree%20learners%20create%20biased%20trees%20if%20some%20classes%20dominate.%20It%20is%20therefore%20recommended%20to%20balance%20the%20dataset%20prior%20to%20fitting%20with%20the%20decision%20tree.)\n",
        "\n",
        "However, before we decided to use under-sampling throughout the whole coursework, using `class_weight='balanced'` seemed to give sufficient results.\n",
        "\n",
        "Hyperparameters we decided to tune:\n",
        "- `criterion`: The function to measure the quality of a split.\n",
        "  - `gini` (default) - measures the impurity of a split in terms of the probability of misclassifying a randomly chosen element from the set. It is typically faster.\n",
        "  - `entropy` - measures the impurity of a split in terms of the amount of information required to identify the class label of a randomly chosen element from the set. It may be more effective for problems with large numbers of classes.\n",
        "- `max_depth`: The maximum depth of the tree.\n",
        "  - `None` (default) - nodes are expanded until all leaves are pure or until all leaves contain less than `min_samples_split` samples. It controls the size and complexity of the tree and can help prevent overfitting.\n",
        "  - *integers* `{4, 8, 12, 16, 20}`\n",
        "- `max_features`: The number of features to consider when looking for the best split. Because the number of features is relatively small, we didn't think there was a need for limmiting the number of features, but we decided to test it anyway.\n",
        "  - `None` (default) - all features are considered.\n",
        "  - *fractions* `{0.2, 0.4, 0.6, 0.8}` - the part of all features.\n",
        "- `min_samples_leaf`: Node only can be considered for splitting if it leaves at least `min_samples_leaf` samples for each of its children subtrees. Increasing the value can reduce overfitting.\n",
        "  - *integers* `{1 (default), 2, 4, 8, 16, 32}`\n",
        "- `min_samples_split`: The minimum number of samples required to split an internal node. Increasing the value can reduce tree complexity and overfitting.\n",
        "  - *integers* `{2 (default), 4, 8, 16, 32}`\n",
        "\n",
        "Some important hyperparameters we decided to leave as default:\n",
        "- `splitter: 'best'`: The strategy used to choose the split at each node. Data we are working with is not of high-dimensionality, so it is not necessary to use the `random` splitter.\n",
        "- `max_features: 'None'`: The maximum number of features to consider when looking for the best split. Our dataset is not of high-dimensionality, so it is not necessary to limit the number of features.\n",
        "- `max_leaf_nodes: 'None'`: Can further decrease overfitting. If we had overfitting issues, that probably would be the next hyperparameter we would tune.\n",
        "- `class_weight: 'balanced'`: As stated earlier, it helps the classifier to deal with imbalanced data, but we balanced the data before training the model, so we don't need to tune it."
      ]
    },
    {
      "cell_type": "code",
      "execution_count": null,
      "metadata": {
        "id": "4l7FbEc8sXVc",
        "outputId": "a32720e9-48a8-4b4d-fc3f-24da94662037"
      },
      "outputs": [
        {
          "name": "stdout",
          "output_type": "stream",
          "text": [
            "Loaded DecisionTree model from file\n",
            "Hyperparameters:\n"
          ]
        },
        {
          "data": {
            "text/plain": [
              "{'criterion': 'entropy',\n",
              " 'max_depth': None,\n",
              " 'max_features': 0.8,\n",
              " 'min_samples_leaf': 8,\n",
              " 'min_samples_split': 2}"
            ]
          },
          "metadata": {},
          "output_type": "display_data"
        },
        {
          "name": "stdout",
          "output_type": "stream",
          "text": [
            "Best score: 0.9475\n"
          ]
        }
      ],
      "source": [
        "NAME = 'DecisionTree'\n",
        "\n",
        "models[NAME] = try_to_load_model(NAME)\n",
        "\n",
        "if models[NAME] is None:\n",
        "    print(f'Training {NAME} model')\n",
        "\n",
        "    params_grid = {\n",
        "        'criterion': ['gini', 'entropy'],\n",
        "        'max_depth': [None, 4, 8, 12, 16, 20],\n",
        "        'max_features': [None, 0.2, 0.4, 0.6, 0.8],\n",
        "        'min_samples_leaf': [1, 2, 4, 8, 16, 32],\n",
        "        'min_samples_split': [2, 4, 8, 16, 32],\n",
        "    }\n",
        "\n",
        "    models[NAME] = {\n",
        "        **get_best_estimator(\n",
        "            estimator=DecisionTreeClassifier(random_state=RS),\n",
        "            params_grid=params_grid,\n",
        "            X=X_train, # don't have to be scaled\n",
        "            y=y_train\n",
        "        ),\n",
        "        'scaled': False\n",
        "    }\n",
        "\n",
        "    save_model(NAME, models[NAME])"
      ]
    },
    {
      "cell_type": "markdown",
      "metadata": {
        "id": "DFHIcSgzsXVc"
      },
      "source": [
        "What is interesting, even though it was stated in the documentation that `criterion: 'entropy'` is usually better for problems with bigger number of classes it turned out to result in higher performance in our case. We also noticed a positive impact of restricting the maximum number of features to 80% of all features (4 features) and setting `min_samples_leaf` to 8. As expected those changes reduced the overfitting of the model."
      ]
    },
    {
      "cell_type": "markdown",
      "metadata": {
        "id": "pQ8PvdrIsXVc"
      },
      "source": [
        "### [SVC](https://scikit-learn.org/stable/modules/generated/sklearn.svm.SVC.html#sklearn.svm.SVC)\n",
        "\n",
        "According to the scikit-learn documentation:\n",
        "> [The fit time scales at least quadratically with the number of samples and may be impractical beyond tens of thousands of samples. For large datasets consider using LinearSVC or SGDClassifier instead, possibly after a Nystroem transformer or other Kernel Approximation.](https://scikit-learn.org/stable/modules/generated/sklearn.svm.SVC.html#sklearn.svm.SVC:~:text=The%20fit%20time%20scales%20at%20least%20quadratically%20with%20the%20number%20of%20samples%20and%20may%20be%20impractical%20beyond%20tens%20of%20thousands%20of%20samples.%20For%20large%20datasets%20consider%20using%20LinearSVC%20or%20SGDClassifier%20instead%2C%20possibly%20after%20a%20Nystroem%20transformer%20or%20other%20Kernel%20Approximation.)\n",
        "\n",
        "Because of that, we decided to use `LinearSVC` instead of `SVC` which fixes the kernel parameter to be linear. However, after we decided to under-sample the data, we haven't had to be worried about the number of samples rendering the model impractical, so we decided to try other kernels.\n",
        "\n",
        "Although SVM are usually used for classification problems with a large number of features or with strongly unbalanced data (which is not our case), we decided to try it as well as it is much different approach than the other models we try.\n",
        "\n",
        "Hyperparameters we decided to tune:\n",
        "- `C`: Inverse regularization parameter. Regularization is a technique used to prevent overfitting in machine learning models, by adding a penalty term to the loss function that the model is trying to minimize. The higher the value the less the model is penalized for being complex and is more likely to fit to the training set (unfortunately, as well as overfit to it).\n",
        "  - *positive numbers* `{0.1, 1 (default), 10, 100}`\n",
        "- `kernel`: Function that computes the similarity between points that used to transform features into a higher dimensional space in order to find a way to create a hyperplane that separates the data.\n",
        "  - `rbf` (default) - uses gaussian function.\n",
        "  - `linear` - computes the dot product. (Same as LinearSVC we wanted to use before we decided to under-sample the data.)\n",
        "  - `poly` - uses polynomial function.\n",
        "  - `sigmoid` - uses sigmoid function.\n",
        "\n",
        "Some hyperparameters are kernel-specific. We decided to leave them as default and only focus on the influence the choice of regularization strength and kernel itself, as training the SVC model takes a relatively long time.\n",
        "\n",
        "Some important hyperparameters we decided to leave as default:\n",
        "- `probability: 'False'`: Whether to enable probability estimates. Slows down the training. We don't care about it, because we use `roc_auc` as a metric.\n",
        "- `decision_function_shape: 'ovr'`: Whether to return a one-vs-rest (OvR) decision function or the one-vs-one. Applicable only for multi-class classification.\n",
        "- `class_weight: 'balanced'`: As stated earlier, it helps the classifier to deal with imbalanced data, but we balanced the data before training the model, so we don't need to tune it."
      ]
    },
    {
      "cell_type": "code",
      "execution_count": null,
      "metadata": {
        "id": "VpzdQ_PisXVd",
        "outputId": "99ba0367-6335-4e61-9f48-1ebcddf11bcc"
      },
      "outputs": [
        {
          "name": "stdout",
          "output_type": "stream",
          "text": [
            "No SVC model found\n",
            "Training SVC model\n",
            "Hyperparameters found:\n"
          ]
        },
        {
          "data": {
            "text/plain": [
              "{'C': 100, 'kernel': 'rbf'}"
            ]
          },
          "metadata": {},
          "output_type": "display_data"
        },
        {
          "name": "stdout",
          "output_type": "stream",
          "text": [
            "Best score: 0.9494\n",
            "Saving SVC model to file\n"
          ]
        }
      ],
      "source": [
        "NAME = 'SVC'\n",
        "\n",
        "models[NAME] = try_to_load_model(NAME)\n",
        "\n",
        "if models[NAME] is None:\n",
        "    print(f'Training {NAME} model')\n",
        "\n",
        "    params_grid = {\n",
        "        'C': [0.1, 1, 10, 100],\n",
        "        'kernel': ['linear', 'poly', 'rbf', 'sigmoid'],\n",
        "    }\n",
        "\n",
        "    models[NAME] = {\n",
        "        **get_best_estimator(\n",
        "            estimator=SVC(random_state=RS),\n",
        "            params_grid=params_grid,\n",
        "            X=X_train_scaled, # should be scaled\n",
        "            y=y_train\n",
        "        ),\n",
        "        'scaled': True\n",
        "    }\n",
        "\n",
        "    save_model(NAME, models[NAME])"
      ]
    },
    {
      "cell_type": "markdown",
      "metadata": {
        "id": "96r-_0pCsXVd"
      },
      "source": [
        "Value of `C` parameter was set to the highest one we decided to check. That result encourages to try even higher values, but the training time of the model gets unreasonably long for higher `C's` and results we have already acquired are more than satisfactory.\n",
        "\n",
        "It is worth mentioning that SVC with `liear` kerner performed really poorly. That met our expectations as we suspected that dataset could be hard to separate with a linear hyperplane."
      ]
    },
    {
      "cell_type": "markdown",
      "metadata": {
        "id": "UglHRZz5sXVd"
      },
      "source": [
        "### [Logistic Regression](https://scikit-learn.org/stable/modules/generated/sklearn.linear_model.LogisticRegression.html)\n",
        "\n",
        "Logistic regression is a popular choice for binary classification tasks because it is simple and relatively fast. In our case it could be not the best choice as is trying to find a linear decision boundary, but we decided to test it anyway.\n",
        "\n",
        "Hyperparameters we decided to tune:\n",
        "- `C`: Inverse of regularization strength.\n",
        "- `solver`: Algorithm to use in the optimization problem. Solvers other than tested are recommended either for multi-class problems or when the number of features is very large.\n",
        "  - `liblinear` - we decided to test it as it is suggested as a good choice for small datasets.\n",
        "  - `lbfgs` (default)\n",
        "\n",
        "Some important hyperparameters we decided to leave as default:\n",
        "- `penalty: 'l2'`: Used to specify the norm used in the penalization. Other penalties are not supported for all the solvers we wanted to try and we discovered that even with those that support it, the model wasn't very sensitive to the change of the penalty.\n",
        "- `class_weight: 'balanced'`: As stated earlier, it helps the classifier to deal with imbalanced data, but we balanced the data before training the model, so we don't need to tune it.\n",
        "- `fit_intercept: 'True'`: Specifies if a constant (a.k.a. bias or intercept) should be added to the decision function. There is no reason not to try to fit the intercept."
      ]
    },
    {
      "cell_type": "code",
      "execution_count": null,
      "metadata": {
        "id": "pYML0qjPsXVd",
        "outputId": "d5e88f71-9a6f-447c-eae8-217e80552c87"
      },
      "outputs": [
        {
          "name": "stdout",
          "output_type": "stream",
          "text": [
            "No LogisticRegression model found\n",
            "Training LogisticRegression model\n",
            "Hyperparameters found:\n"
          ]
        },
        {
          "data": {
            "text/plain": [
              "{'C': 300, 'solver': 'liblinear'}"
            ]
          },
          "metadata": {},
          "output_type": "display_data"
        },
        {
          "name": "stdout",
          "output_type": "stream",
          "text": [
            "Best score: 0.8975\n",
            "Saving LogisticRegression model to file\n"
          ]
        }
      ],
      "source": [
        "NAME = 'LogisticRegression'\n",
        "\n",
        "models[NAME] = try_to_load_model(NAME)\n",
        "\n",
        "if models[NAME] is None:\n",
        "    print(f'Training {NAME} model')\n",
        "\n",
        "    params_grid = {\n",
        "        'C': [0.001, 0.01, 0.1, 1, 10, 100, 300, 500],\n",
        "        'solver': ['newton-cg', 'liblinear', 'lbfgs']\n",
        "    }\n",
        "\n",
        "    models[NAME] = {\n",
        "        **get_best_estimator(\n",
        "            estimator=LogisticRegression(random_state=RS),\n",
        "            params_grid=params_grid,\n",
        "            X=X_train_scaled, # should be scaled\n",
        "            y=y_train\n",
        "        ),\n",
        "        'scaled': True\n",
        "    }\n",
        "\n",
        "    save_model(NAME, models[NAME])"
      ]
    },
    {
      "cell_type": "markdown",
      "metadata": {
        "id": "D_0DgC8SsXVd"
      },
      "source": [
        "\n",
        "As mentioned above we suspected that dataset could be hard to separate linearly. This was confirmed by the results of the Logistic Regression model which performed worse than previous models."
      ]
    },
    {
      "cell_type": "markdown",
      "metadata": {
        "id": "KpYNw54xsXVd"
      },
      "source": [
        "### [RidgeClassifier](https://scikit-learn.org/stable/modules/generated/sklearn.linear_model.RidgeClassifier.html#sklearn.linear_model.RidgeClassifier)"
      ]
    },
    {
      "cell_type": "markdown",
      "metadata": {
        "id": "bhj7yQLasXVd"
      },
      "source": [
        "Even though Ridge classifier is another linear model we decided to test it as it is usually used to mitigate the problem of high correlation between input feature in the input data.\n",
        "\n",
        "Hyperparameters we decided to tune:\n",
        "- `alpha`: Regularization strength. The lower the value the more the model is penalized for being complex and is more likely to fit to the training set (unfortunately, as well as overfit to it).\n",
        "  - *positive numbers* `{0.001, 0.01, 0.1, 1 (default), 10, 100}`\n",
        "\n",
        "Some important hyperparameters we decided to leave as default:\n",
        "- `class_weight: 'balanced'`: As stated earlier, it helps the classifier to deal with imbalanced data, but we balanced the data before training the model, so we don't need to tune it.\n",
        "- `fit_intercept: 'True'`: Specifies if a constant (a.k.a. bias or intercept) should be added to the decision function. There is no reason not to try to fit the intercept.\n",
        "- `copy_X: 'True'`: If True, X will be copied; else, it may be overwritten. We use the data further in the notebook, and it is not a huge dataset, so we are not worried about the memory usage.\n",
        "- `solver: 'auto'`: Solver is automatically chosen based on the type of the input data. Previous, independent experiments showed that `auto` results in the best performance.\n"
      ]
    },
    {
      "cell_type": "code",
      "execution_count": null,
      "metadata": {
        "id": "bqx_RX_xsXVd",
        "outputId": "faf91b40-9543-46ad-e2a9-612fd1e0f33c"
      },
      "outputs": [
        {
          "name": "stdout",
          "output_type": "stream",
          "text": [
            "No RidgeClassifier model found\n",
            "Training RidgeClassifier model\n",
            "Hyperparameters found:\n"
          ]
        },
        {
          "data": {
            "text/plain": [
              "{'alpha': 0.001}"
            ]
          },
          "metadata": {},
          "output_type": "display_data"
        },
        {
          "name": "stdout",
          "output_type": "stream",
          "text": [
            "Best score: 0.8925\n",
            "Saving RidgeClassifier model to file\n"
          ]
        }
      ],
      "source": [
        "NAME = 'RidgeClassifier'\n",
        "\n",
        "models[NAME] = try_to_load_model(NAME)\n",
        "\n",
        "if models[NAME] is None:\n",
        "    print(f'Training {NAME} model')\n",
        "\n",
        "    params_grid = {\n",
        "        'alpha': [0.001, 0.01, 0.1, 1, 10, 100],\n",
        "    }\n",
        "\n",
        "    models[NAME] = {\n",
        "        **get_best_estimator(\n",
        "            estimator=RidgeClassifier(random_state=RS),\n",
        "            params_grid=params_grid,\n",
        "            X=X_train, # don't have to be scaled\n",
        "            y=y_train\n",
        "        ),\n",
        "        'scaled': False\n",
        "    }\n",
        "\n",
        "    save_model(NAME, models[NAME])"
      ]
    },
    {
      "cell_type": "markdown",
      "metadata": {
        "id": "__CBnwQNsXVd"
      },
      "source": [
        "As suspected, Ridge classifier as a linear model performed worse than other models being able to capture non-linear patterns in the data.\n",
        "\n",
        "We see that the value of `alpha` that was chosen as the best one is the lowest value we decided to provide to GridSearchCV. We tried some but the increase of the performance was negligible."
      ]
    },
    {
      "cell_type": "markdown",
      "metadata": {
        "id": "VaKyVjJVsXVd"
      },
      "source": [
        "### [KNeighborsClassifier](https://scikit-learn.org/stable/modules/generated/sklearn.neighbors.KNeighborsClassifier.html#sklearn.neighbors.KNeighborsClassifier)\n",
        "\n",
        "Algorithm works by finding the K nearest neighbors to a new data point and assigning it the most common class label among those neighbors. KNN is non-parametric, which means it does not make any assumptions about the underlying distribution of the data.\n",
        "\n",
        "What is of the most importance to us is that KNN usually handles non-linearly separable data well.\n",
        "\n",
        "Hyperparameters we decided to tune:\n",
        "- `n_neighbors`: Number of neighbors to use by default for kneighbors queries.\n",
        "  - *positive integers* `{3, 5 (default), 7, 9, 11, 13, 15, 17, 19, 21, 23, 25}`\n",
        "- `weights`: Weight function used in prediction.\n",
        "  - `uniform` - all points in each neighborhood are weighted equally.\n",
        "  - `distance` - weight points by the inverse of their distance. In this case, closer neighbors of a query point will have a greater influence than neighbors which are further away.\n",
        "- `p`: Power parameter for the Minkowski metric. For value of `1` the distance between points is calculated as 'Manhattan distance' and for value of `2` as 'Euclidean distance'.\n",
        "  - *positive integers* `{1, 2 (default), 3, 4}`\n",
        "\n",
        "Some important hyperparameters we decided to leave as default:\n",
        "- `algorithm: 'auto'`: Algorithm used to compute the nearest neighbors is chosen automatically based on the input data. It does not affect the performance of the model itself but influences the speed of the training.\n",
        "- `metric: 'minkowski'`: The distance metric to use for the tree. Minkowski metic together with `p` parameter gives enough control over the way the distance is calculated."
      ]
    },
    {
      "cell_type": "code",
      "execution_count": null,
      "metadata": {
        "id": "lWBYu47isXVd",
        "outputId": "2c5cb61c-bc97-4cb2-97b1-0fc80742abeb"
      },
      "outputs": [
        {
          "name": "stdout",
          "output_type": "stream",
          "text": [
            "No KNeighborsClassifier model found\n",
            "Training KNeighborsClassifier model\n",
            "Hyperparameters found:\n"
          ]
        },
        {
          "data": {
            "text/plain": [
              "{'n_neighbors': 19, 'p': 1, 'weights': 'distance'}"
            ]
          },
          "metadata": {},
          "output_type": "display_data"
        },
        {
          "name": "stdout",
          "output_type": "stream",
          "text": [
            "Best score: 0.9716\n",
            "Saving KNeighborsClassifier model to file\n"
          ]
        }
      ],
      "source": [
        "NAME = 'KNeighborsClassifier'\n",
        "\n",
        "models[NAME] = try_to_load_model(NAME)\n",
        "\n",
        "if models[NAME] is None:\n",
        "    print(f'Training {NAME} model')\n",
        "\n",
        "    params_grid = {\n",
        "        'n_neighbors': [3, 5, 7, 9, 11, 13, 15, 17, 19, 21, 23, 25],\n",
        "        'weights': ['uniform', 'distance'],\n",
        "        'p': [1, 2, 3, 4]\n",
        "    }\n",
        "\n",
        "    models[NAME] = {\n",
        "        **get_best_estimator(\n",
        "            estimator=KNeighborsClassifier(),\n",
        "            params_grid=params_grid,\n",
        "            X=X_train, # don't have to be scaled\n",
        "            y=y_train\n",
        "        ),\n",
        "        'scaled': False\n",
        "    }\n",
        "\n",
        "    save_model(NAME, models[NAME])"
      ]
    },
    {
      "cell_type": "markdown",
      "metadata": {
        "id": "Tc-CDJBZsXVe"
      },
      "source": [
        "The model performed the best of all the models we tested. It is interesting that the best results we got was for relatively (as for KNN model) hight number of `n_neighbors` (19). That means that there could be a lot of noise in the input data and by increasing the number of neighbors the model was able to smooth out the decision boundary enough to get good results without underfitting."
      ]
    },
    {
      "cell_type": "markdown",
      "metadata": {
        "id": "x9uWFxPDsXVe"
      },
      "source": [
        "### Best of all"
      ]
    },
    {
      "cell_type": "code",
      "execution_count": null,
      "metadata": {
        "id": "oDbJV4H-sXVm",
        "outputId": "d71613aa-3857-4c03-c50d-cbd0d4e594af"
      },
      "outputs": [
        {
          "name": "stdout",
          "output_type": "stream",
          "text": [
            "DecisionTree: 0.9475\n",
            "SVC: 0.9494\n",
            "LogisticRegression: 0.8975\n",
            "RidgeClassifier: 0.8925\n",
            "KNeighborsClassifier: 0.9716\n",
            "Best model: KNeighborsClassifier\n"
          ]
        }
      ],
      "source": [
        "best = {}\n",
        "\n",
        "for name, model_data in models.items():\n",
        "\tprint(f\"{name}: {model_data['auc']:.4}\")\n",
        "\n",
        "\tif model_data['auc'] > best.get('auc', 0):\n",
        "\t\tbest = model_data\n",
        "\t\tbest['name'] = name\n",
        "\n",
        "print(f\"Best model: {best['name']}\")"
      ]
    },
    {
      "cell_type": "code",
      "execution_count": null,
      "metadata": {
        "id": "K11mXZXusXVm",
        "outputId": "06270e88-04c8-4080-f0ef-19868916f44b"
      },
      "outputs": [
        {
          "name": "stdout",
          "output_type": "stream",
          "text": [
            "acc       0.9195\n",
            "f1        0.9198\n",
            "precision 0.8938\n",
            "recall    0.9474\n"
          ]
        },
        {
          "data": {
            "image/png": "[encoded data removed]",
            "text/plain": [
              "<Figure size 800x600 with 2 Axes>"
            ]
          },
          "metadata": {},
          "output_type": "display_data"
        }
      ],
      "source": [
        "predicted = best['clf'].predict(X_test_scaled if best['scaled'] else X_test)\n",
        "\n",
        "print_metrics(y_test, predicted)\n",
        "plot_conf_mat(y_test, predicted)"
      ]
    }
  ],
  "metadata": {
    "kernelspec": {
      "display_name": "Python 3 (ipykernel)",
      "language": "python",
      "name": "python3"
    },
    "language_info": {
      "codemirror_mode": {
        "name": "ipython",
        "version": 3
      },
      "file_extension": ".py",
      "mimetype": "text/x-python",
      "name": "python",
      "nbconvert_exporter": "python",
      "pygments_lexer": "ipython3",
      "version": "3.10.9"
    },
    "vscode": {
      "interpreter": {
        "hash": "e1fc5167dfeb33453000ab5dfc85e5a47484e1d529642297843a34f05a9fa0aa"
      }
    },
    "colab": {
      "provenance": [],
      "toc_visible": true
    }
  },
  "nbformat": 4,
  "nbformat_minor": 0
}