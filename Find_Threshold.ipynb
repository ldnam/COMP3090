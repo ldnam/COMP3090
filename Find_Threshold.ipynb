{
  "cells": [
    {
      "cell_type": "markdown",
      "metadata": {
        "id": "nMUDxEkxCETr"
      },
      "source": [
        "# SNA\n",
        "## Android malware detector\n",
        "\n",
        "Authors:\n",
        "- Nguyen Minh Tuan\n",
        "- Le Dinh Nam\n",
        "- Nguyen Thai Hung\n",
        "\n",
        "In this file we searched for the optimal threshold for the best model from the previous steps (in this case - SVC)."
      ]
    },
    {
      "cell_type": "code",
      "execution_count": null,
      "metadata": {
        "id": "RcqIksNiCETs"
      },
      "outputs": [],
      "source": [
        "# libraries\n",
        "import numpy as np\n",
        "import pandas as pd\n",
        "import seaborn as sns\n",
        "import matplotlib.pyplot as plt\n",
        "import pickle\n",
        "import os\n",
        "\n",
        "# sklearn\n",
        "from sklearn.model_selection import train_test_split\n",
        "from sklearn.preprocessing import StandardScaler\n",
        "from sklearn import metrics\n",
        "from sklearn.model_selection import KFold\n",
        "from sklearn.model_selection import GridSearchCV\n",
        "from sklearn.base import BaseEstimator\n",
        "\n",
        "from sklearn.linear_model import LogisticRegression\n",
        "from sklearn.linear_model import RidgeClassifier\n",
        "from sklearn.tree import DecisionTreeClassifier\n",
        "from sklearn.svm import LinearSVC\n",
        "from sklearn.svm import SVC\n",
        "from sklearn.neighbors import KNeighborsClassifier\n",
        "from sklearn import neighbors, datasets\n",
        "\n",
        "# necessary paths\n",
        "# feature_of_counts = \"./data/processed_data/feature_vectors_counts.csv\"\n",
        "feature_of_counts = \"./data/processed_data/new_transformation.csv\"\n",
        "\n",
        "# Random Seed for reproducible experiments\n",
        "RS = 42\n",
        "np.random.seed(RS)"
      ]
    },
    {
      "cell_type": "code",
      "execution_count": null,
      "metadata": {
        "id": "RJdxQZW8CETt",
        "outputId": "ca0dc4a0-c265-487d-a966-4b8b89b43bc9"
      },
      "outputs": [
        {
          "data": {
            "text/html": [
              "<div>\n",
              "<style scoped>\n",
              "    .dataframe tbody tr th:only-of-type {\n",
              "        vertical-align: middle;\n",
              "    }\n",
              "\n",
              "    .dataframe tbody tr th {\n",
              "        vertical-align: top;\n",
              "    }\n",
              "\n",
              "    .dataframe thead th {\n",
              "        text-align: right;\n",
              "    }\n",
              "</style>\n",
              "<table border=\"1\" class=\"dataframe\">\n",
              "  <thead>\n",
              "    <tr style=\"text-align: right;\">\n",
              "      <th></th>\n",
              "      <th>access_network_state</th>\n",
              "      <th>action</th>\n",
              "      <th>activity</th>\n",
              "      <th>admob</th>\n",
              "      <th>android</th>\n",
              "      <th>api</th>\n",
              "      <th>api_call</th>\n",
              "      <th>app</th>\n",
              "      <th>call</th>\n",
              "      <th>category</th>\n",
              "      <th>...</th>\n",
              "      <th>org</th>\n",
              "      <th>permission</th>\n",
              "      <th>read_phone_state</th>\n",
              "      <th>real_permission</th>\n",
              "      <th>schemas</th>\n",
              "      <th>service_receiver</th>\n",
              "      <th>touchscreen</th>\n",
              "      <th>twitter</th>\n",
              "      <th>url</th>\n",
              "      <th>malware</th>\n",
              "    </tr>\n",
              "  </thead>\n",
              "  <tbody>\n",
              "    <tr>\n",
              "      <th>0</th>\n",
              "      <td>0.073722</td>\n",
              "      <td>0.093886</td>\n",
              "      <td>0.305434</td>\n",
              "      <td>0.094639</td>\n",
              "      <td>0.390947</td>\n",
              "      <td>0.000000</td>\n",
              "      <td>0.074731</td>\n",
              "      <td>0.040295</td>\n",
              "      <td>0.127188</td>\n",
              "      <td>0.047015</td>\n",
              "      <td>...</td>\n",
              "      <td>0.0</td>\n",
              "      <td>0.148136</td>\n",
              "      <td>0.00000</td>\n",
              "      <td>0.050410</td>\n",
              "      <td>0.080769</td>\n",
              "      <td>0.090816</td>\n",
              "      <td>0.023049</td>\n",
              "      <td>0.0</td>\n",
              "      <td>0.499276</td>\n",
              "      <td>False</td>\n",
              "    </tr>\n",
              "    <tr>\n",
              "      <th>1</th>\n",
              "      <td>0.000000</td>\n",
              "      <td>0.033421</td>\n",
              "      <td>0.033454</td>\n",
              "      <td>0.000000</td>\n",
              "      <td>0.622147</td>\n",
              "      <td>0.000000</td>\n",
              "      <td>0.106407</td>\n",
              "      <td>0.000000</td>\n",
              "      <td>0.144879</td>\n",
              "      <td>0.033471</td>\n",
              "      <td>...</td>\n",
              "      <td>0.0</td>\n",
              "      <td>0.457008</td>\n",
              "      <td>0.12134</td>\n",
              "      <td>0.107665</td>\n",
              "      <td>0.000000</td>\n",
              "      <td>0.000000</td>\n",
              "      <td>0.032819</td>\n",
              "      <td>0.0</td>\n",
              "      <td>0.355452</td>\n",
              "      <td>False</td>\n",
              "    </tr>\n",
              "    <tr>\n",
              "      <th>2</th>\n",
              "      <td>0.000000</td>\n",
              "      <td>0.083183</td>\n",
              "      <td>0.249796</td>\n",
              "      <td>0.000000</td>\n",
              "      <td>0.489001</td>\n",
              "      <td>0.000000</td>\n",
              "      <td>0.176563</td>\n",
              "      <td>0.142803</td>\n",
              "      <td>0.090150</td>\n",
              "      <td>0.083309</td>\n",
              "      <td>...</td>\n",
              "      <td>0.0</td>\n",
              "      <td>0.087498</td>\n",
              "      <td>0.00000</td>\n",
              "      <td>0.089325</td>\n",
              "      <td>0.000000</td>\n",
              "      <td>0.000000</td>\n",
              "      <td>0.081686</td>\n",
              "      <td>0.0</td>\n",
              "      <td>0.491505</td>\n",
              "      <td>False</td>\n",
              "    </tr>\n",
              "    <tr>\n",
              "      <th>3</th>\n",
              "      <td>0.000000</td>\n",
              "      <td>0.027695</td>\n",
              "      <td>0.055445</td>\n",
              "      <td>0.614180</td>\n",
              "      <td>0.407026</td>\n",
              "      <td>0.120235</td>\n",
              "      <td>0.088178</td>\n",
              "      <td>0.000000</td>\n",
              "      <td>0.120060</td>\n",
              "      <td>0.027737</td>\n",
              "      <td>...</td>\n",
              "      <td>0.0</td>\n",
              "      <td>0.233057</td>\n",
              "      <td>0.00000</td>\n",
              "      <td>0.059481</td>\n",
              "      <td>0.095303</td>\n",
              "      <td>0.053579</td>\n",
              "      <td>0.027197</td>\n",
              "      <td>0.0</td>\n",
              "      <td>0.360017</td>\n",
              "      <td>False</td>\n",
              "    </tr>\n",
              "    <tr>\n",
              "      <th>4</th>\n",
              "      <td>0.000000</td>\n",
              "      <td>0.099619</td>\n",
              "      <td>0.498588</td>\n",
              "      <td>0.000000</td>\n",
              "      <td>0.585623</td>\n",
              "      <td>0.000000</td>\n",
              "      <td>0.105725</td>\n",
              "      <td>0.171019</td>\n",
              "      <td>0.107963</td>\n",
              "      <td>0.099770</td>\n",
              "      <td>...</td>\n",
              "      <td>0.0</td>\n",
              "      <td>0.104787</td>\n",
              "      <td>0.00000</td>\n",
              "      <td>0.106975</td>\n",
              "      <td>0.000000</td>\n",
              "      <td>0.192721</td>\n",
              "      <td>0.097826</td>\n",
              "      <td>0.0</td>\n",
              "      <td>0.000000</td>\n",
              "      <td>False</td>\n",
              "    </tr>\n",
              "  </tbody>\n",
              "</table>\n",
              "<p>5 rows × 33 columns</p>\n",
              "</div>"
            ],
            "text/plain": [
              "   access_network_state    action  activity     admob   android       api  \\\n",
              "0              0.073722  0.093886  0.305434  0.094639  0.390947  0.000000   \n",
              "1              0.000000  0.033421  0.033454  0.000000  0.622147  0.000000   \n",
              "2              0.000000  0.083183  0.249796  0.000000  0.489001  0.000000   \n",
              "3              0.000000  0.027695  0.055445  0.614180  0.407026  0.120235   \n",
              "4              0.000000  0.099619  0.498588  0.000000  0.585623  0.000000   \n",
              "\n",
              "   api_call       app      call  category  ...  org  permission  \\\n",
              "0  0.074731  0.040295  0.127188  0.047015  ...  0.0    0.148136   \n",
              "1  0.106407  0.000000  0.144879  0.033471  ...  0.0    0.457008   \n",
              "2  0.176563  0.142803  0.090150  0.083309  ...  0.0    0.087498   \n",
              "3  0.088178  0.000000  0.120060  0.027737  ...  0.0    0.233057   \n",
              "4  0.105725  0.171019  0.107963  0.099770  ...  0.0    0.104787   \n",
              "\n",
              "   read_phone_state  real_permission   schemas  service_receiver  touchscreen  \\\n",
              "0           0.00000         0.050410  0.080769          0.090816     0.023049   \n",
              "1           0.12134         0.107665  0.000000          0.000000     0.032819   \n",
              "2           0.00000         0.089325  0.000000          0.000000     0.081686   \n",
              "3           0.00000         0.059481  0.095303          0.053579     0.027197   \n",
              "4           0.00000         0.106975  0.000000          0.192721     0.097826   \n",
              "\n",
              "   twitter       url  malware  \n",
              "0      0.0  0.499276    False  \n",
              "1      0.0  0.355452    False  \n",
              "2      0.0  0.491505    False  \n",
              "3      0.0  0.360017    False  \n",
              "4      0.0  0.000000    False  \n",
              "\n",
              "[5 rows x 33 columns]"
            ]
          },
          "metadata": {},
          "output_type": "display_data"
        }
      ],
      "source": [
        "# data exploration\n",
        "dataset = pd.read_csv(feature_of_counts, index_col=0)\n",
        "display(dataset.head())"
      ]
    },
    {
      "cell_type": "code",
      "execution_count": null,
      "metadata": {
        "id": "9pSOXGNKCETt"
      },
      "outputs": [],
      "source": [
        "num_beningware = len(dataset[dataset['malware'] == False])\n",
        "num_malware = len(dataset[dataset['malware'] == True])\n",
        "\n",
        "# Undersampling\n",
        "\n",
        "benigware_indices = dataset[dataset.malware == False].index\n",
        "benigware_indices_to_drop = np.random.choice(benigware_indices, num_beningware - num_malware, replace=False)\n",
        "dataset = dataset.drop(benigware_indices_to_drop)\n",
        "\n",
        "num_beningware = len(dataset[dataset['malware'] == False])\n",
        "num_malware = len(dataset[dataset['malware'] == True])\n",
        "\n",
        "X = dataset.drop(columns=['malware'])\n",
        "y = dataset['malware']\n",
        "\n",
        "# split dataset into training and testing\n",
        "X_train, X_test, y_train, y_test = train_test_split(X, y, test_size = 0.2, random_state = RS)\n",
        "\n",
        "# preprocess data\n",
        "sc = StandardScaler()\n",
        "X_train_scaled = sc.fit_transform(X_train)\n",
        "X_test_scaled = sc.transform(X_test)"
      ]
    },
    {
      "cell_type": "code",
      "execution_count": null,
      "metadata": {
        "id": "fRritXFNCETu"
      },
      "outputs": [],
      "source": [
        "# evaluation metrics\n",
        "def print_metrics(y_test, predicted):\n",
        "\tprint(\"acc       {:.4}\".format(metrics.accuracy_score(y_test, predicted)))\n",
        "\tprint(\"f1        {:.4}\".format(metrics.f1_score(y_test, predicted)))\n",
        "\tprint(\"precision {:.4}\".format(metrics.precision_score(y_test, predicted)))\n",
        "\tprint(\"recall    {:.4}\".format(metrics.recall_score(y_test, predicted)))\n",
        ""
      ]
    },
    {
      "cell_type": "code",
      "execution_count": null,
      "metadata": {
        "id": "ostdMMGwCETu"
      },
      "outputs": [],
      "source": [
        "# confusion matrix\n",
        "def plot_conf_mat(y_test, predicted):\n",
        "\tconf_mat = metrics.confusion_matrix(y_test, predicted)\n",
        "\n",
        "\t# https://proclusacademy.com/blog/practical/confusion-matrix-accuracy-sklearn-seaborn/\n",
        "\t# Change figure size and increase dpi for better resolution\n",
        "\tplt.figure(figsize=(8,6), dpi=100)\n",
        "\t# Scale up the size of all text\n",
        "\tsns.set(font_scale = 1.1)\n",
        "\n",
        "\t# Plot Confusion Matrix using Seaborn heatmap()\n",
        "\t# Parameters:\n",
        "\t# first param - confusion matrix in array format\n",
        "\t# annot = True: show the numbers in each heatmap cell\n",
        "\t# fmt = 'd': show numbers as integers.\n",
        "\tax = sns.heatmap(conf_mat, annot=True, fmt='d', )\n",
        "\n",
        "\t# set x-axis label and ticks.\n",
        "\tax.set_xlabel(\"Predicted Diagnosis\", fontsize=14, labelpad=20)\n",
        "\tax.xaxis.set_ticklabels(['Negative', 'Positive'])\n",
        "\n",
        "\t# set y-axis label and ticks\n",
        "\tax.set_ylabel(\"Actual Diagnosis\", fontsize=14, labelpad=20)\n",
        "\tax.yaxis.set_ticklabels(['Negative', 'Positive'])\n",
        "\n",
        "\t# set plot title\n",
        "\tax.set_title(\"Confusion Matrix\", fontsize=14, pad=20)\n",
        "\n",
        "\tplt.show()"
      ]
    },
    {
      "cell_type": "code",
      "execution_count": null,
      "metadata": {
        "id": "kGgXoCKzCETu"
      },
      "outputs": [],
      "source": [
        "# X_train_new, X_valid, y_train_new, y_valid = train_test_split(X_train, y_train, test_size = 0.2, random_state = RS)\n",
        "#Split the training set into a training and a validation set.\\\n",
        "CV = 5\n",
        "folds = KFold(n_splits=CV, random_state=42, shuffle=True)"
      ]
    },
    {
      "cell_type": "code",
      "execution_count": null,
      "metadata": {
        "id": "GPCWsbXCCETu"
      },
      "outputs": [],
      "source": [
        "def Youden(y_test, predicted):\n",
        "    conf_mat = metrics.confusion_matrix(y_test, predicted)\n",
        "    TPR = conf_mat[1][1]\n",
        "    TNR = conf_mat[0][0]\n",
        "    FPR = conf_mat[1][0]\n",
        "    FNR = conf_mat[0][1]\n",
        "    J_index = TPR/(TPR+FNR+1) + TNR/(FPR+TNR+1) - 1 #Formula to calculate the Youden index\n",
        "    return round(J_index,4)\n",
        "\n",
        "def threshold(arr, t):\n",
        "    new_arr = [0 for i in range(len(arr))]\n",
        "    # Define the prediction for input based on this threshold\n",
        "    for i in range(len(arr)):\n",
        "        if arr[i][1] > t:\n",
        "            new_arr[i] = 1\n",
        "        else:\n",
        "            new_arr[i] = 0\n",
        "    # The new array will contain only 0s and 1s\n",
        "    return new_arr\n",
        "\n",
        "# Let's define all of the metrics\n",
        "metric_list = [Youden, metrics.accuracy_score, metrics.f1_score]\n",
        "metric_name = ['Youden index', 'Accuracy', 'F1 score']"
      ]
    },
    {
      "cell_type": "code",
      "execution_count": null,
      "metadata": {
        "id": "MSwA-26nCETu"
      },
      "outputs": [],
      "source": [
        "def best_model(metric, name):\n",
        "    valid_metrics, train_metrics = [], []\n",
        "    # The list of thresholds\n",
        "    t_list = np.arange(0, 1, 0.05)\n",
        "    print(\"Currently doing metric: {}\".format(metric))\n",
        "\n",
        "    for ii, (train_index, test_index) in enumerate(folds.split(X_train)):\n",
        "        print(\"Current fold: {}\".format(ii))\n",
        "        # We create an instance of Neighbours Classifier and fit the data.\n",
        "        clf = SVC(random_state=RS, C=10, kernel='rbf', probability=True)\n",
        "        clf.fit(X_train.iloc[train_index], y_train.iloc[train_index])\n",
        "\n",
        "        valid_tmp = []\n",
        "        train_tmp = []\n",
        "        for t in t_list:\n",
        "            # Then we will predict on both training and validation sets\n",
        "            predicted = threshold(clf.predict_proba(X_train.iloc[test_index]), t)\n",
        "            y_train_pred = threshold(clf.predict_proba(X_train.iloc[train_index]), t)\n",
        "\n",
        "            # Save the metric value\n",
        "            valid = metric(y_train.iloc[test_index], predicted)\n",
        "            train = metric(y_train.iloc[train_index], y_train_pred)\n",
        "\n",
        "            valid_tmp.append(valid)\n",
        "            train_tmp.append(train)\n",
        "\n",
        "        valid_metrics.append(valid_tmp)\n",
        "        train_metrics.append(train_tmp)\n",
        "\n",
        "    valid_metrics = np.mean(np.array(valid_metrics), axis=0)\n",
        "    train_metrics = np.mean(np.array(train_metrics), axis=0)\n",
        "\n",
        "    find_max = np.array(valid_metrics)\n",
        "    arg_max = np.argmax(valid_metrics)\n",
        "    print(\"Maximum for {} is at index {}: {}, threshold: {}\".format(metric, arg_max, find_max[arg_max], t_list[arg_max]))\n",
        "\n",
        "    #Plot the metrics\n",
        "    fig, ax = plt.subplots(1,1,figsize=(5,3))\n",
        "    ax.plot(t_list, train_metrics, color=\"blue\", label='train')\n",
        "    ax.plot(t_list, valid_metrics, color=\"red\", label='valid')\n",
        "\n",
        "    ax.legend()\n",
        "    ax.set_xlabel('Threshold')\n",
        "    ax.set_ylabel(name)\n",
        "    ax.set_xticks(t_list[0:-1:2])\n",
        "    ax.set_title('Train vs Validation Results')"
      ]
    },
    {
      "cell_type": "code",
      "execution_count": null,
      "metadata": {
        "scrolled": false,
        "id": "OSbNifzvCETu",
        "outputId": "12f4f799-6c91-4307-aa71-0fca84925e01"
      },
      "outputs": [
        {
          "name": "stdout",
          "output_type": "stream",
          "text": [
            "Currently doing metric: <function Youden at 0x7f6f70f8fbe0>\n",
            "Current fold: 0\n",
            "Current fold: 1\n",
            "Current fold: 2\n",
            "Current fold: 3\n",
            "Current fold: 4\n",
            "Maximum for <function Youden at 0x7f6f70f8fbe0> is at index 11: 0.83962, threshold: 0.55\n",
            "Currently doing metric: <function accuracy_score at 0x7f6f7196d990>\n",
            "Current fold: 0\n",
            "Current fold: 1\n",
            "Current fold: 2\n",
            "Current fold: 3\n",
            "Current fold: 4\n",
            "Maximum for <function accuracy_score at 0x7f6f7196d990> is at index 11: 0.9208626863974837, threshold: 0.55\n",
            "Currently doing metric: <function f1_score at 0x7f6f7196dd80>\n",
            "Current fold: 0\n",
            "Current fold: 1\n",
            "Current fold: 2\n",
            "Current fold: 3\n",
            "Current fold: 4\n",
            "Maximum for <function f1_score at 0x7f6f7196dd80> is at index 11: 0.9208843139150685, threshold: 0.55\n"
          ]
        },
        {
          "data": {
            "image/png": "[encoded data removed]",
            "text/plain": [
              "<Figure size 360x216 with 1 Axes>"
            ]
          },
          "metadata": {
            "needs_background": "light"
          },
          "output_type": "display_data"
        },
        {
          "data": {
            "image/png": "[encoded data removed]",
            "text/plain": [
              "<Figure size 360x216 with 1 Axes>"
            ]
          },
          "metadata": {
            "needs_background": "light"
          },
          "output_type": "display_data"
        },
        {
          "data": {
            "image/png": "[encoded data removed]",
            "text/plain": [
              "<Figure size 360x216 with 1 Axes>"
            ]
          },
          "metadata": {
            "needs_background": "light"
          },
          "output_type": "display_data"
        }
      ],
      "source": [
        "for i in range(len(metric_list)):\n",
        "    best_model(metric_list[i], metric_name[i])"
      ]
    },
    {
      "cell_type": "code",
      "execution_count": null,
      "metadata": {
        "scrolled": false,
        "id": "GzYg6SdSCETu",
        "outputId": "f266636f-780e-4ac9-e411-0493d8088a3b"
      },
      "outputs": [
        {
          "name": "stdout",
          "output_type": "stream",
          "text": [
            "acc       0.9294\n",
            "f1        0.9274\n",
            "precision 0.9253\n",
            "recall    0.9296\n",
            "youden    0.8569\n"
          ]
        }
      ],
      "source": [
        "clf = SVC(random_state=RS, C=10, kernel='rbf', probability=True)\n",
        "clf.fit(X_train, y_train)\n",
        "y_test_pred = threshold(clf.predict_proba(X_test), 0.55)\n",
        "print_metrics(y_test_pred, y_test)\n",
        "print(\"youden   \", Youden(y_test_pred, y_test))"
      ]
    },
    {
      "cell_type": "code",
      "execution_count": null,
      "metadata": {
        "id": "eq7ARsn2CETv"
      },
      "outputs": [],
      "source": [
        "metric_list"
      ]
    }
  ],
  "metadata": {
    "kernelspec": {
      "display_name": "Python 3 (ipykernel)",
      "language": "python",
      "name": "python3"
    },
    "language_info": {
      "codemirror_mode": {
        "name": "ipython",
        "version": 3
      },
      "file_extension": ".py",
      "mimetype": "text/x-python",
      "name": "python",
      "nbconvert_exporter": "python",
      "pygments_lexer": "ipython3",
      "version": "3.10.9"
    },
    "vscode": {
      "interpreter": {
        "hash": "e1fc5167dfeb33453000ab5dfc85e5a47484e1d529642297843a34f05a9fa0aa"
      }
    },
    "colab": {
      "provenance": []
    }
  },
  "nbformat": 4,
  "nbformat_minor": 0
}