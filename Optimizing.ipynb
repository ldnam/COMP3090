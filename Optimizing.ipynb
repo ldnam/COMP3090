{
  "cells": [
    {
      "cell_type": "markdown",
      "metadata": {
        "id": "k__-UVBXBXzl"
      },
      "source": [
        "# SNA\n",
        "## Android malware detector\n",
        "\n",
        "Authors:\n",
        "- Nguyen Minh Tuan\n",
        "- Le Dinh Nam\n",
        "- Nguyen Thai Hung\n",
        "\n",
        "This file contains task 3."
      ]
    },
    {
      "cell_type": "code",
      "execution_count": null,
      "metadata": {
        "id": "eFF1Hw13BXzm"
      },
      "outputs": [],
      "source": [
        "# libraries\n",
        "import numpy as np\n",
        "import pandas as pd\n",
        "import seaborn as sns\n",
        "import matplotlib.pyplot as plt\n",
        "import pickle\n",
        "import os\n",
        "\n",
        "# sklearn\n",
        "from sklearn.model_selection import train_test_split\n",
        "from sklearn.preprocessing import StandardScaler\n",
        "from sklearn import metrics\n",
        "from sklearn.model_selection import KFold\n",
        "from sklearn.model_selection import GridSearchCV\n",
        "from sklearn.base import BaseEstimator\n",
        "\n",
        "from sklearn.linear_model import LogisticRegression\n",
        "from sklearn.linear_model import RidgeClassifier\n",
        "from sklearn.tree import DecisionTreeClassifier\n",
        "from sklearn.svm import LinearSVC\n",
        "from sklearn.neighbors import KNeighborsClassifier\n",
        "from sklearn import neighbors, datasets\n",
        "\n",
        "# necessary paths\n",
        "feature_of_counts = \"./data/processed_data/feature_vectors_counts.csv\"\n",
        "\n",
        "# Random Seed for reproducible experiments\n",
        "RS = 42\n",
        "np.random.seed(RS)"
      ]
    },
    {
      "cell_type": "code",
      "execution_count": null,
      "metadata": {
        "id": "Z0J-P8hVBXzn"
      },
      "outputs": [],
      "source": [
        "# load data, same as in task 1\n",
        "dataset = pd.read_csv(feature_of_counts, index_col=0)\n",
        "\n",
        "num_beningware = len(dataset[dataset['malware'] == False])\n",
        "num_malware = len(dataset[dataset['malware'] == True])\n",
        "\n",
        "# Random Undersampling\n",
        "benigware_indices = dataset[dataset.malware == False].index\n",
        "benigware_indices_to_drop = np.random.choice(benigware_indices, num_beningware - num_malware, replace=False)\n",
        "dataset = dataset.drop(benigware_indices_to_drop)\n",
        "\n",
        "# Create train data with classification variable\n",
        "X = dataset.drop(columns=['sha256', 'malware'])\n",
        "y = dataset['malware']\n",
        "\n",
        "# split dataset into training and testing\n",
        "X_train, X_test, y_train, y_test = train_test_split(X, y, test_size = 0.2, random_state = RS)\n",
        "\n",
        "# preprocess data\n",
        "sc = StandardScaler()\n",
        "X_train_scaled = sc.fit_transform(X_train)\n",
        "X_test_scaled = sc.transform(X_test)"
      ]
    },
    {
      "cell_type": "code",
      "execution_count": null,
      "metadata": {
        "id": "oIN4N1CXBXzn"
      },
      "outputs": [],
      "source": [
        "# evaluation metrics\n",
        "def print_metrics(y_test, predicted):\n",
        "\tprint(\"acc       {:.4}\".format(metrics.accuracy_score(y_test, predicted)))\n",
        "\tprint(\"f1        {:.4}\".format(metrics.f1_score(y_test, predicted)))\n",
        "\tprint(\"precision {:.4}\".format(metrics.precision_score(y_test, predicted)))\n",
        "\tprint(\"recall    {:.4}\".format(metrics.recall_score(y_test, predicted)))\n",
        ""
      ]
    },
    {
      "cell_type": "code",
      "execution_count": null,
      "metadata": {
        "id": "EBTOjPLRBXzn"
      },
      "outputs": [],
      "source": [
        "# confusion matrix\n",
        "def plot_conf_mat(y_test, predicted):\n",
        "\tconf_mat = metrics.confusion_matrix(y_test, predicted)\n",
        "\n",
        "\t# https://proclusacademy.com/blog/practical/confusion-matrix-accuracy-sklearn-seaborn/\n",
        "\t# Change figure size and increase dpi for better resolution\n",
        "\tplt.figure(figsize=(8,6), dpi=100)\n",
        "\t# Scale up the size of all text\n",
        "\tsns.set(font_scale = 1.1)\n",
        "\n",
        "\t# Plot Confusion Matrix using Seaborn heatmap()\n",
        "\t# Parameters:\n",
        "\t# first param - confusion matrix in array format\n",
        "\t# annot = True: show the numbers in each heatmap cell\n",
        "\t# fmt = 'd': show numbers as integers.\n",
        "\tax = sns.heatmap(conf_mat, annot=True, fmt='d', )\n",
        "\n",
        "\t# set x-axis label and ticks.\n",
        "\tax.set_xlabel(\"Predicted Diagnosis\", fontsize=14, labelpad=20)\n",
        "\tax.xaxis.set_ticklabels(['Negative', 'Positive'])\n",
        "\n",
        "\t# set y-axis label and ticks\n",
        "\tax.set_ylabel(\"Actual Diagnosis\", fontsize=14, labelpad=20)\n",
        "\tax.yaxis.set_ticklabels(['Negative', 'Positive'])\n",
        "\n",
        "\t# set plot title\n",
        "\tax.set_title(\"Confusion Matrix\", fontsize=14, pad=20)\n",
        "\n",
        "\tplt.show()"
      ]
    },
    {
      "cell_type": "markdown",
      "metadata": {
        "id": "s7Dp3pw6BXzn"
      },
      "source": [
        "## Task 3\n",
        "<font color='gray'>Repeat Task 2, but this time, you also need to optimise the classification threshold for the best model. You can choose the method to do that – e.g. by plotting and analysing the ROC curves, by ensuring a maximum FPR, or by using methods such as Youden, but you will need to give a rationale of why this method and how it may or may not be important for the malware detection domain. With the best model and the best threshold, evaluate it on the test data as in Task 2. Again, you need to explain and justify your choices throughout the task and interpret the results adequately. Recallto clearly justify the choice of the threshold.</font>\n",
        "\n",
        "In Task 2, the best model was `KNeighborsClassifier`, which we will use in this task, too."
      ]
    },
    {
      "cell_type": "code",
      "execution_count": null,
      "metadata": {
        "id": "JThrQGFEBXzn"
      },
      "outputs": [],
      "source": [
        "# use kfold for cross-validation\n",
        "CV = 5\n",
        "folds = KFold(n_splits=CV, random_state=42, shuffle=True)"
      ]
    },
    {
      "cell_type": "code",
      "execution_count": null,
      "metadata": {
        "id": "L5dBOKkRBXzn"
      },
      "outputs": [],
      "source": [
        "def Youden(y_test, predicted):\n",
        "    conf_mat = metrics.confusion_matrix(y_test, predicted)\n",
        "    TPR = conf_mat[1][1]\n",
        "    TNR = conf_mat[0][0]\n",
        "    FPR = conf_mat[1][0]\n",
        "    FNR = conf_mat[0][1]\n",
        "    J_index = TPR/(TPR+FNR) + TNR/(FPR+TNR) - 1 #Formula to calculate the Youden index\n",
        "    return round(J_index,4)\n",
        "\n",
        "def threshold(arr, t):\n",
        "    new_arr = [0 for i in range(len(arr))]\n",
        "    # Define the prediction for input based on this threshold\n",
        "    for i in range(len(arr)):\n",
        "        if arr[i][1] > t:\n",
        "            new_arr[i] = 1\n",
        "        else:\n",
        "            new_arr[i] = 0\n",
        "    # The new array will contain only 0s and 1s\n",
        "    return new_arr\n",
        "\n",
        "# Let's define all of the metrics\n",
        "metric_list = [Youden, metrics.accuracy_score, metrics.f1_score]\n",
        "metric_name = ['Youden index', 'Accuracy', 'F1 score']"
      ]
    },
    {
      "cell_type": "code",
      "execution_count": null,
      "metadata": {
        "id": "grWP4MFABXzn"
      },
      "outputs": [],
      "source": [
        "# for a given metric, train the best model from task 2 and get results for different thresholds\n",
        "def best_model(metric, name):\n",
        "    valid_metrics, train_metrics = [], []\n",
        "    # The list of thresholds\n",
        "    t_list = np.arange(0, 1, 0.05)\n",
        "    print(\"Currently doing metric: {}\".format(metric))\n",
        "\n",
        "    # go through cross-validation folds for the best model from task 2\n",
        "    for ii, (train_index, test_index) in enumerate(folds.split(X_train)):\n",
        "        print(\"Current fold: {}\".format(ii))\n",
        "        # We create an instance of Neighbours Classifier and fit the data.\n",
        "        clf = neighbors.KNeighborsClassifier(n_neighbors = 15, weights = 'distance', p = 1, algorithm = 'ball_tree', n_jobs=-1)\n",
        "        clf.fit(X_train.iloc[train_index], y_train.iloc[train_index])\n",
        "\n",
        "        valid_tmp = []\n",
        "        train_tmp = []\n",
        "        for t in t_list:\n",
        "            # Then we will predict on both training and validation sets\n",
        "            predicted = threshold(clf.predict_proba(X_train.iloc[test_index]), t)\n",
        "            y_train_pred = threshold(clf.predict_proba(X_train.iloc[train_index]), t)\n",
        "\n",
        "            # Save the metric value\n",
        "            valid = metric(y_train.iloc[test_index], predicted)\n",
        "            train = metric(y_train.iloc[train_index], y_train_pred)\n",
        "\n",
        "            valid_tmp.append(valid)\n",
        "            train_tmp.append(train)\n",
        "\n",
        "        valid_metrics.append(valid_tmp)\n",
        "        train_metrics.append(train_tmp)\n",
        "\n",
        "    valid_metrics = np.mean(np.array(valid_metrics), axis=0)\n",
        "    train_metrics = np.mean(np.array(train_metrics), axis=0)\n",
        "\n",
        "    find_max = np.array(valid_metrics)\n",
        "    arg_max = np.argmax(valid_metrics)\n",
        "    print(\"Maximum for {} is at index {}: {}, threshold: {}\".format(metric, arg_max, find_max[arg_max], t_list[arg_max]))\n",
        "\n",
        "    #Plot the metrics\n",
        "    fig, ax = plt.subplots(1,1,figsize=(5,3))\n",
        "    ax.plot(t_list, train_metrics, color=\"blue\", label='train')\n",
        "    ax.plot(t_list, valid_metrics, color=\"red\", label='valid')\n",
        "\n",
        "    ax.legend()\n",
        "    ax.set_xlabel('Threshold')\n",
        "    ax.set_ylabel(name)\n",
        "    ax.set_xticks(t_list[0:-1:2])\n",
        "    ax.set_title('Train vs Validation Results')"
      ]
    },
    {
      "cell_type": "code",
      "execution_count": null,
      "metadata": {
        "scrolled": false,
        "id": "usDmyjoWBXzo",
        "outputId": "13fa764e-347b-47d6-fef3-c089f28e5d45"
      },
      "outputs": [
        {
          "name": "stdout",
          "output_type": "stream",
          "text": [
            "Currently doing metric: <function Youden at 0x7f867a5e63b0>\n",
            "Current fold: 0\n",
            "Current fold: 1\n",
            "Current fold: 2\n",
            "Current fold: 3\n",
            "Current fold: 4\n",
            "Maximum for <function Youden at 0x7f867a5e63b0> is at index 15: 0.84268, threshold: 0.75\n",
            "Currently doing metric: <function accuracy_score at 0x7f867b035990>\n",
            "Current fold: 0\n",
            "Current fold: 1\n",
            "Current fold: 2\n",
            "Current fold: 3\n",
            "Current fold: 4\n",
            "Maximum for <function accuracy_score at 0x7f867b035990> is at index 14: 0.9204128060834581, threshold: 0.7000000000000001\n",
            "Currently doing metric: <function f1_score at 0x7f867b035d80>\n",
            "Current fold: 0\n",
            "Current fold: 1\n",
            "Current fold: 2\n",
            "Current fold: 3\n",
            "Current fold: 4\n",
            "Maximum for <function f1_score at 0x7f867b035d80> is at index 13: 0.9205597981006056, threshold: 0.65\n"
          ]
        },
        {
          "data": {
            "image/png": "[encoded data removed]",
            "text/plain": [
              "<Figure size 360x216 with 1 Axes>"
            ]
          },
          "metadata": {
            "needs_background": "light"
          },
          "output_type": "display_data"
        },
        {
          "data": {
            "image/png": "[encoded data removed]",
            "text/plain": [
              "<Figure size 360x216 with 1 Axes>"
            ]
          },
          "metadata": {
            "needs_background": "light"
          },
          "output_type": "display_data"
        },
        {
          "data": {
            "image/png": "[encoded data removed]",
            "text/plain": [
              "<Figure size 360x216 with 1 Axes>"
            ]
          },
          "metadata": {
            "needs_background": "light"
          },
          "output_type": "display_data"
        }
      ],
      "source": [
        "for i in range(len(metric_list)):\n",
        "    best_model(metric_list[i], metric_name[i])"
      ]
    },
    {
      "cell_type": "markdown",
      "metadata": {
        "id": "1gUlAzFYBXzo"
      },
      "source": [
        "To a certain threshold, the model will overfit the data. Using cross-validation, we tried different thresholds to classify the data. For each metric, we found different thresholds: for Youden index, the threshold was `0.75` with score `0.8426`, for accuracy the threshold was `0.7` with score 0.9205, and for F1 score the threshold was `0.65` with score `0.9205` (similar to accuracy). Therefore, in this task, the training set will be splitted into two smaller set: training set and validation set. The results can be seen in the graphs, as well. Note that not only the F1 score and accuracy have similar scores, but also their plots are almost identical."
      ]
    },
    {
      "cell_type": "code",
      "execution_count": null,
      "metadata": {
        "scrolled": false,
        "id": "vwVIMMbFBXzo",
        "outputId": "eef6d6f9-aee5-4317-955f-283d5160533a"
      },
      "outputs": [
        {
          "name": "stdout",
          "output_type": "stream",
          "text": [
            "acc       0.9348\n",
            "f1        0.9322\n",
            "precision 0.9197\n",
            "recall    0.945\n",
            "youden    0.8689\n"
          ]
        }
      ],
      "source": [
        "clf = neighbors.KNeighborsClassifier(n_neighbors = 15, weights = 'distance', p = 1, algorithm = 'ball_tree', n_jobs=-1)\n",
        "clf.fit(X_train, y_train)\n",
        "y_test_pred = threshold(clf.predict_proba(X_test), 0.7)\n",
        "print_metrics(y_test_pred, y_test)\n",
        "print(\"youden   \", Youden(y_test_pred, y_test))"
      ]
    },
    {
      "cell_type": "markdown",
      "metadata": {
        "id": "_mHw6hKFBXzo"
      },
      "source": [
        "The result turns out to be better than the results of task 2 (better accuracy, precision, recall, and f1 score)"
      ]
    }
  ],
  "metadata": {
    "kernelspec": {
      "display_name": "Python 3 (ipykernel)",
      "language": "python",
      "name": "python3"
    },
    "language_info": {
      "codemirror_mode": {
        "name": "ipython",
        "version": 3
      },
      "file_extension": ".py",
      "mimetype": "text/x-python",
      "name": "python",
      "nbconvert_exporter": "python",
      "pygments_lexer": "ipython3",
      "version": "3.10.9"
    },
    "vscode": {
      "interpreter": {
        "hash": "e1fc5167dfeb33453000ab5dfc85e5a47484e1d529642297843a34f05a9fa0aa"
      }
    },
    "colab": {
      "provenance": []
    }
  },
  "nbformat": 4,
  "nbformat_minor": 0
}