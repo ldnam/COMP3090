{
  "cells": [
    {
      "cell_type": "markdown",
      "metadata": {
        "id": "cxfPdv-eBuE8"
      },
      "source": [
        "# SNA\n",
        "## Android malware detector\n",
        "\n",
        "Authors:\n",
        "- Nguyen Minh Tuan\n",
        "- Le Dinh Nam\n",
        "- Nguyen Thai Hung\n",
        "\n",
        "In this part we reuse some of the previous codes used to train some of the models as well as finding the optimal threshold.\n",
        "\n",
        "## Task 4\n",
        "<font color='gray'>Instead of using the processed features, go back to the raw features and figure out another way of using them to produce feature vectors that are not counts of the feature families, yet amenable to machine learning classifiers, and repeat Task 3. In addition, you should conduct feature selection, that is, you should study the importance of each of the features you suggested and take out features that do not seem to contribute much. Once more, you need to explain and justify your choices throughout the task and interpret the results adequately.</font>"
      ]
    },
    {
      "cell_type": "code",
      "execution_count": null,
      "metadata": {
        "id": "Sok73MiMBuE-"
      },
      "outputs": [],
      "source": [
        "# libraries\n",
        "import numpy as np\n",
        "import pandas as pd\n",
        "import seaborn as sns\n",
        "import matplotlib.pyplot as plt\n",
        "import pickle\n",
        "import os\n",
        "\n",
        "# sklearn\n",
        "from sklearn.model_selection import train_test_split\n",
        "from sklearn.preprocessing import StandardScaler\n",
        "from sklearn import metrics\n",
        "from sklearn.model_selection import KFold\n",
        "from sklearn.model_selection import GridSearchCV\n",
        "from sklearn.base import BaseEstimator\n",
        "\n",
        "from sklearn.linear_model import LogisticRegression\n",
        "from sklearn.linear_model import RidgeClassifier\n",
        "from sklearn.tree import DecisionTreeClassifier\n",
        "from sklearn.svm import SVC\n",
        "from sklearn.neighbors import KNeighborsClassifier\n",
        "\n",
        "# necessary paths\n",
        "feature_of_counts = \"./data/processed_data/new_transformation.csv\"\n",
        "\n",
        "# Random Seed for reproducible experiments\n",
        "RS = 42\n",
        "np.random.seed(RS)"
      ]
    },
    {
      "cell_type": "code",
      "execution_count": null,
      "metadata": {
        "id": "oiHxOT5DBuE-",
        "outputId": "04e1f56d-d29d-4ef2-d8ac-4827a3d9cebd"
      },
      "outputs": [
        {
          "data": {
            "text/html": [
              "<div>\n",
              "<style scoped>\n",
              "    .dataframe tbody tr th:only-of-type {\n",
              "        vertical-align: middle;\n",
              "    }\n",
              "\n",
              "    .dataframe tbody tr th {\n",
              "        vertical-align: top;\n",
              "    }\n",
              "\n",
              "    .dataframe thead th {\n",
              "        text-align: right;\n",
              "    }\n",
              "</style>\n",
              "<table border=\"1\" class=\"dataframe\">\n",
              "  <thead>\n",
              "    <tr style=\"text-align: right;\">\n",
              "      <th></th>\n",
              "      <th>access_network_state</th>\n",
              "      <th>action</th>\n",
              "      <th>activity</th>\n",
              "      <th>admob</th>\n",
              "      <th>android</th>\n",
              "      <th>api</th>\n",
              "      <th>api_call</th>\n",
              "      <th>app</th>\n",
              "      <th>call</th>\n",
              "      <th>category</th>\n",
              "      <th>...</th>\n",
              "      <th>org</th>\n",
              "      <th>permission</th>\n",
              "      <th>read_phone_state</th>\n",
              "      <th>real_permission</th>\n",
              "      <th>schemas</th>\n",
              "      <th>service_receiver</th>\n",
              "      <th>touchscreen</th>\n",
              "      <th>twitter</th>\n",
              "      <th>url</th>\n",
              "      <th>malware</th>\n",
              "    </tr>\n",
              "  </thead>\n",
              "  <tbody>\n",
              "    <tr>\n",
              "      <th>0</th>\n",
              "      <td>0.073722</td>\n",
              "      <td>0.093886</td>\n",
              "      <td>0.305434</td>\n",
              "      <td>0.094639</td>\n",
              "      <td>0.390947</td>\n",
              "      <td>0.000000</td>\n",
              "      <td>0.074731</td>\n",
              "      <td>0.040295</td>\n",
              "      <td>0.127188</td>\n",
              "      <td>0.047015</td>\n",
              "      <td>...</td>\n",
              "      <td>0.0</td>\n",
              "      <td>0.148136</td>\n",
              "      <td>0.00000</td>\n",
              "      <td>0.050410</td>\n",
              "      <td>0.080769</td>\n",
              "      <td>0.090816</td>\n",
              "      <td>0.023049</td>\n",
              "      <td>0.0</td>\n",
              "      <td>0.499276</td>\n",
              "      <td>False</td>\n",
              "    </tr>\n",
              "    <tr>\n",
              "      <th>1</th>\n",
              "      <td>0.000000</td>\n",
              "      <td>0.033421</td>\n",
              "      <td>0.033454</td>\n",
              "      <td>0.000000</td>\n",
              "      <td>0.622147</td>\n",
              "      <td>0.000000</td>\n",
              "      <td>0.106407</td>\n",
              "      <td>0.000000</td>\n",
              "      <td>0.144879</td>\n",
              "      <td>0.033471</td>\n",
              "      <td>...</td>\n",
              "      <td>0.0</td>\n",
              "      <td>0.457008</td>\n",
              "      <td>0.12134</td>\n",
              "      <td>0.107665</td>\n",
              "      <td>0.000000</td>\n",
              "      <td>0.000000</td>\n",
              "      <td>0.032819</td>\n",
              "      <td>0.0</td>\n",
              "      <td>0.355452</td>\n",
              "      <td>False</td>\n",
              "    </tr>\n",
              "    <tr>\n",
              "      <th>2</th>\n",
              "      <td>0.000000</td>\n",
              "      <td>0.083183</td>\n",
              "      <td>0.249796</td>\n",
              "      <td>0.000000</td>\n",
              "      <td>0.489001</td>\n",
              "      <td>0.000000</td>\n",
              "      <td>0.176563</td>\n",
              "      <td>0.142803</td>\n",
              "      <td>0.090150</td>\n",
              "      <td>0.083309</td>\n",
              "      <td>...</td>\n",
              "      <td>0.0</td>\n",
              "      <td>0.087498</td>\n",
              "      <td>0.00000</td>\n",
              "      <td>0.089325</td>\n",
              "      <td>0.000000</td>\n",
              "      <td>0.000000</td>\n",
              "      <td>0.081686</td>\n",
              "      <td>0.0</td>\n",
              "      <td>0.491505</td>\n",
              "      <td>False</td>\n",
              "    </tr>\n",
              "    <tr>\n",
              "      <th>3</th>\n",
              "      <td>0.000000</td>\n",
              "      <td>0.027695</td>\n",
              "      <td>0.055445</td>\n",
              "      <td>0.614180</td>\n",
              "      <td>0.407026</td>\n",
              "      <td>0.120235</td>\n",
              "      <td>0.088178</td>\n",
              "      <td>0.000000</td>\n",
              "      <td>0.120060</td>\n",
              "      <td>0.027737</td>\n",
              "      <td>...</td>\n",
              "      <td>0.0</td>\n",
              "      <td>0.233057</td>\n",
              "      <td>0.00000</td>\n",
              "      <td>0.059481</td>\n",
              "      <td>0.095303</td>\n",
              "      <td>0.053579</td>\n",
              "      <td>0.027197</td>\n",
              "      <td>0.0</td>\n",
              "      <td>0.360017</td>\n",
              "      <td>False</td>\n",
              "    </tr>\n",
              "    <tr>\n",
              "      <th>4</th>\n",
              "      <td>0.000000</td>\n",
              "      <td>0.099619</td>\n",
              "      <td>0.498588</td>\n",
              "      <td>0.000000</td>\n",
              "      <td>0.585623</td>\n",
              "      <td>0.000000</td>\n",
              "      <td>0.105725</td>\n",
              "      <td>0.171019</td>\n",
              "      <td>0.107963</td>\n",
              "      <td>0.099770</td>\n",
              "      <td>...</td>\n",
              "      <td>0.0</td>\n",
              "      <td>0.104787</td>\n",
              "      <td>0.00000</td>\n",
              "      <td>0.106975</td>\n",
              "      <td>0.000000</td>\n",
              "      <td>0.192721</td>\n",
              "      <td>0.097826</td>\n",
              "      <td>0.0</td>\n",
              "      <td>0.000000</td>\n",
              "      <td>False</td>\n",
              "    </tr>\n",
              "  </tbody>\n",
              "</table>\n",
              "<p>5 rows × 33 columns</p>\n",
              "</div>"
            ],
            "text/plain": [
              "   access_network_state    action  activity     admob   android       api  \\\n",
              "0              0.073722  0.093886  0.305434  0.094639  0.390947  0.000000   \n",
              "1              0.000000  0.033421  0.033454  0.000000  0.622147  0.000000   \n",
              "2              0.000000  0.083183  0.249796  0.000000  0.489001  0.000000   \n",
              "3              0.000000  0.027695  0.055445  0.614180  0.407026  0.120235   \n",
              "4              0.000000  0.099619  0.498588  0.000000  0.585623  0.000000   \n",
              "\n",
              "   api_call       app      call  category  ...  org  permission  \\\n",
              "0  0.074731  0.040295  0.127188  0.047015  ...  0.0    0.148136   \n",
              "1  0.106407  0.000000  0.144879  0.033471  ...  0.0    0.457008   \n",
              "2  0.176563  0.142803  0.090150  0.083309  ...  0.0    0.087498   \n",
              "3  0.088178  0.000000  0.120060  0.027737  ...  0.0    0.233057   \n",
              "4  0.105725  0.171019  0.107963  0.099770  ...  0.0    0.104787   \n",
              "\n",
              "   read_phone_state  real_permission   schemas  service_receiver  touchscreen  \\\n",
              "0           0.00000         0.050410  0.080769          0.090816     0.023049   \n",
              "1           0.12134         0.107665  0.000000          0.000000     0.032819   \n",
              "2           0.00000         0.089325  0.000000          0.000000     0.081686   \n",
              "3           0.00000         0.059481  0.095303          0.053579     0.027197   \n",
              "4           0.00000         0.106975  0.000000          0.192721     0.097826   \n",
              "\n",
              "   twitter       url  malware  \n",
              "0      0.0  0.499276    False  \n",
              "1      0.0  0.355452    False  \n",
              "2      0.0  0.491505    False  \n",
              "3      0.0  0.360017    False  \n",
              "4      0.0  0.000000    False  \n",
              "\n",
              "[5 rows x 33 columns]"
            ]
          },
          "metadata": {},
          "output_type": "display_data"
        }
      ],
      "source": [
        "# data exploration\n",
        "dataset = pd.read_csv(feature_of_counts, index_col=0)\n",
        "display(dataset.head())"
      ]
    },
    {
      "cell_type": "code",
      "execution_count": null,
      "metadata": {
        "id": "VCo8qDEGBuE_",
        "outputId": "01d37845-4e7e-4606-f46e-8dad12efe8db"
      },
      "outputs": [
        {
          "name": "stdout",
          "output_type": "stream",
          "text": [
            "Number of Benignware: 123453\n",
            "Number of Malware: 5560\n"
          ]
        }
      ],
      "source": [
        "num_beningware = len(dataset[dataset['malware'] == False])\n",
        "num_malware = len(dataset[dataset['malware'] == True])\n",
        "\n",
        "print(\"Number of Benignware:\", num_beningware)\n",
        "print(\"Number of Malware:\", num_malware)"
      ]
    },
    {
      "cell_type": "code",
      "execution_count": null,
      "metadata": {
        "id": "bfOJNwD1BuE_",
        "outputId": "722373b8-0a4f-467b-85f3-916501f49ad2"
      },
      "outputs": [
        {
          "name": "stdout",
          "output_type": "stream",
          "text": [
            "Number of Benignware: 5560\n",
            "Number of Malware: 5560\n"
          ]
        }
      ],
      "source": [
        "# Undersampling\n",
        "\n",
        "benigware_indices = dataset[dataset.malware == False].index\n",
        "benigware_indices_to_drop = np.random.choice(benigware_indices, num_beningware - num_malware, replace=False)\n",
        "dataset = dataset.drop(benigware_indices_to_drop)\n",
        "\n",
        "num_beningware = len(dataset[dataset['malware'] == False])\n",
        "num_malware = len(dataset[dataset['malware'] == True])\n",
        "\n",
        "print(\"Number of Benignware:\", num_beningware)\n",
        "print(\"Number of Malware:\", num_malware)"
      ]
    },
    {
      "cell_type": "code",
      "execution_count": null,
      "metadata": {
        "id": "Oyv2TfeaBuE_",
        "outputId": "5dd5c1db-51fc-46ba-fa89-3c0192d3f198"
      },
      "outputs": [
        {
          "data": {
            "text/html": [
              "<div>\n",
              "<style scoped>\n",
              "    .dataframe tbody tr th:only-of-type {\n",
              "        vertical-align: middle;\n",
              "    }\n",
              "\n",
              "    .dataframe tbody tr th {\n",
              "        vertical-align: top;\n",
              "    }\n",
              "\n",
              "    .dataframe thead th {\n",
              "        text-align: right;\n",
              "    }\n",
              "</style>\n",
              "<table border=\"1\" class=\"dataframe\">\n",
              "  <thead>\n",
              "    <tr style=\"text-align: right;\">\n",
              "      <th></th>\n",
              "      <th>access_network_state</th>\n",
              "      <th>action</th>\n",
              "      <th>activity</th>\n",
              "      <th>admob</th>\n",
              "      <th>android</th>\n",
              "      <th>api</th>\n",
              "      <th>api_call</th>\n",
              "      <th>app</th>\n",
              "      <th>call</th>\n",
              "      <th>category</th>\n",
              "      <th>...</th>\n",
              "      <th>net</th>\n",
              "      <th>org</th>\n",
              "      <th>permission</th>\n",
              "      <th>read_phone_state</th>\n",
              "      <th>real_permission</th>\n",
              "      <th>schemas</th>\n",
              "      <th>service_receiver</th>\n",
              "      <th>touchscreen</th>\n",
              "      <th>twitter</th>\n",
              "      <th>url</th>\n",
              "    </tr>\n",
              "  </thead>\n",
              "  <tbody>\n",
              "    <tr>\n",
              "      <th>12</th>\n",
              "      <td>0.096561</td>\n",
              "      <td>0.030743</td>\n",
              "      <td>0.061547</td>\n",
              "      <td>0.000000</td>\n",
              "      <td>0.542183</td>\n",
              "      <td>0.000000</td>\n",
              "      <td>0.130510</td>\n",
              "      <td>0.000000</td>\n",
              "      <td>0.199909</td>\n",
              "      <td>0.030790</td>\n",
              "      <td>...</td>\n",
              "      <td>0.083852</td>\n",
              "      <td>0.000000</td>\n",
              "      <td>0.452734</td>\n",
              "      <td>0.111619</td>\n",
              "      <td>0.132053</td>\n",
              "      <td>0.000000</td>\n",
              "      <td>0.000000</td>\n",
              "      <td>0.030190</td>\n",
              "      <td>0.0</td>\n",
              "      <td>0.399637</td>\n",
              "    </tr>\n",
              "    <tr>\n",
              "      <th>30</th>\n",
              "      <td>0.024341</td>\n",
              "      <td>0.015500</td>\n",
              "      <td>0.023272</td>\n",
              "      <td>0.000000</td>\n",
              "      <td>0.447989</td>\n",
              "      <td>0.134579</td>\n",
              "      <td>0.098698</td>\n",
              "      <td>0.026609</td>\n",
              "      <td>0.067191</td>\n",
              "      <td>0.015523</td>\n",
              "      <td>...</td>\n",
              "      <td>0.063413</td>\n",
              "      <td>0.017881</td>\n",
              "      <td>0.497263</td>\n",
              "      <td>0.028137</td>\n",
              "      <td>0.091543</td>\n",
              "      <td>0.000000</td>\n",
              "      <td>0.134934</td>\n",
              "      <td>0.007610</td>\n",
              "      <td>0.0</td>\n",
              "      <td>0.384648</td>\n",
              "    </tr>\n",
              "    <tr>\n",
              "      <th>48</th>\n",
              "      <td>0.000000</td>\n",
              "      <td>0.075717</td>\n",
              "      <td>0.075793</td>\n",
              "      <td>0.000000</td>\n",
              "      <td>0.667674</td>\n",
              "      <td>0.000000</td>\n",
              "      <td>0.080359</td>\n",
              "      <td>0.000000</td>\n",
              "      <td>0.164119</td>\n",
              "      <td>0.075833</td>\n",
              "      <td>...</td>\n",
              "      <td>0.000000</td>\n",
              "      <td>0.000000</td>\n",
              "      <td>0.557521</td>\n",
              "      <td>0.137454</td>\n",
              "      <td>0.081309</td>\n",
              "      <td>0.000000</td>\n",
              "      <td>0.000000</td>\n",
              "      <td>0.074355</td>\n",
              "      <td>0.0</td>\n",
              "      <td>0.000000</td>\n",
              "    </tr>\n",
              "    <tr>\n",
              "      <th>58</th>\n",
              "      <td>0.134557</td>\n",
              "      <td>0.042840</td>\n",
              "      <td>0.085765</td>\n",
              "      <td>0.172735</td>\n",
              "      <td>0.629605</td>\n",
              "      <td>0.000000</td>\n",
              "      <td>0.136398</td>\n",
              "      <td>0.073545</td>\n",
              "      <td>0.185714</td>\n",
              "      <td>0.042905</td>\n",
              "      <td>...</td>\n",
              "      <td>0.058424</td>\n",
              "      <td>0.000000</td>\n",
              "      <td>0.450628</td>\n",
              "      <td>0.000000</td>\n",
              "      <td>0.092008</td>\n",
              "      <td>0.147419</td>\n",
              "      <td>0.000000</td>\n",
              "      <td>0.042069</td>\n",
              "      <td>0.0</td>\n",
              "      <td>0.303758</td>\n",
              "    </tr>\n",
              "    <tr>\n",
              "      <th>63</th>\n",
              "      <td>0.028464</td>\n",
              "      <td>0.009062</td>\n",
              "      <td>0.063499</td>\n",
              "      <td>0.036540</td>\n",
              "      <td>0.355161</td>\n",
              "      <td>0.000000</td>\n",
              "      <td>0.086560</td>\n",
              "      <td>0.015558</td>\n",
              "      <td>0.108035</td>\n",
              "      <td>0.009076</td>\n",
              "      <td>...</td>\n",
              "      <td>0.024718</td>\n",
              "      <td>0.000000</td>\n",
              "      <td>0.247845</td>\n",
              "      <td>0.032903</td>\n",
              "      <td>0.077852</td>\n",
              "      <td>0.046777</td>\n",
              "      <td>0.000000</td>\n",
              "      <td>0.008899</td>\n",
              "      <td>0.0</td>\n",
              "      <td>0.685400</td>\n",
              "    </tr>\n",
              "  </tbody>\n",
              "</table>\n",
              "<p>5 rows × 32 columns</p>\n",
              "</div>"
            ],
            "text/plain": [
              "    access_network_state    action  activity     admob   android       api  \\\n",
              "12              0.096561  0.030743  0.061547  0.000000  0.542183  0.000000   \n",
              "30              0.024341  0.015500  0.023272  0.000000  0.447989  0.134579   \n",
              "48              0.000000  0.075717  0.075793  0.000000  0.667674  0.000000   \n",
              "58              0.134557  0.042840  0.085765  0.172735  0.629605  0.000000   \n",
              "63              0.028464  0.009062  0.063499  0.036540  0.355161  0.000000   \n",
              "\n",
              "    api_call       app      call  category  ...       net       org  \\\n",
              "12  0.130510  0.000000  0.199909  0.030790  ...  0.083852  0.000000   \n",
              "30  0.098698  0.026609  0.067191  0.015523  ...  0.063413  0.017881   \n",
              "48  0.080359  0.000000  0.164119  0.075833  ...  0.000000  0.000000   \n",
              "58  0.136398  0.073545  0.185714  0.042905  ...  0.058424  0.000000   \n",
              "63  0.086560  0.015558  0.108035  0.009076  ...  0.024718  0.000000   \n",
              "\n",
              "    permission  read_phone_state  real_permission   schemas  service_receiver  \\\n",
              "12    0.452734          0.111619         0.132053  0.000000          0.000000   \n",
              "30    0.497263          0.028137         0.091543  0.000000          0.134934   \n",
              "48    0.557521          0.137454         0.081309  0.000000          0.000000   \n",
              "58    0.450628          0.000000         0.092008  0.147419          0.000000   \n",
              "63    0.247845          0.032903         0.077852  0.046777          0.000000   \n",
              "\n",
              "    touchscreen  twitter       url  \n",
              "12     0.030190      0.0  0.399637  \n",
              "30     0.007610      0.0  0.384648  \n",
              "48     0.074355      0.0  0.000000  \n",
              "58     0.042069      0.0  0.303758  \n",
              "63     0.008899      0.0  0.685400  \n",
              "\n",
              "[5 rows x 32 columns]"
            ]
          },
          "metadata": {},
          "output_type": "display_data"
        },
        {
          "data": {
            "text/plain": [
              "12     True\n",
              "30     True\n",
              "48     True\n",
              "58    False\n",
              "63    False\n",
              "Name: malware, dtype: bool"
            ]
          },
          "metadata": {},
          "output_type": "display_data"
        }
      ],
      "source": [
        "X = dataset.drop(columns=['malware'])\n",
        "y = dataset['malware']\n",
        "\n",
        "display(X.head(5))\n",
        "display(y.head(5))"
      ]
    },
    {
      "cell_type": "code",
      "execution_count": null,
      "metadata": {
        "id": "RpIgNzugBuE_"
      },
      "outputs": [],
      "source": [
        "# split dataset into training and testing\n",
        "X_train, X_test, y_train, y_test = train_test_split(X, y, test_size = 0.2, random_state = RS)\n",
        "\n",
        "# preprocess data\n",
        "sc = StandardScaler()\n",
        "X_train_scaled = sc.fit_transform(X_train)\n",
        "X_test_scaled = sc.transform(X_test)"
      ]
    },
    {
      "cell_type": "code",
      "execution_count": null,
      "metadata": {
        "id": "qoLJGSptBuE_"
      },
      "outputs": [],
      "source": [
        "# evaluation metrics\n",
        "def print_metrics(y_test, predicted):\n",
        "\tprint(\"acc       {:.4}\".format(metrics.accuracy_score(y_test, predicted)))\n",
        "\tprint(\"f1        {:.4}\".format(metrics.f1_score(y_test, predicted)))\n",
        "\tprint(\"precision {:.4}\".format(metrics.precision_score(y_test, predicted)))\n",
        "\tprint(\"recall    {:.4}\".format(metrics.recall_score(y_test, predicted)))\n",
        ""
      ]
    },
    {
      "cell_type": "code",
      "execution_count": null,
      "metadata": {
        "id": "v0UUPY1WBuE_"
      },
      "outputs": [],
      "source": [
        "# confusion matrix\n",
        "def plot_conf_mat(y_test, predicted):\n",
        "\tconf_mat = metrics.confusion_matrix(y_test, predicted)\n",
        "\n",
        "\t# https://proclusacademy.com/blog/practical/confusion-matrix-accuracy-sklearn-seaborn/\n",
        "\t# Change figure size and increase dpi for better resolution\n",
        "\tplt.figure(figsize=(8,6), dpi=100)\n",
        "\t# Scale up the size of all text\n",
        "\tparams = {\"ytick.color\" : \"w\", \"xtick.color\" : \"w\",\"axes.labelcolor\" : \"w\",\"axes.edgecolor\" : \"w\"}\n",
        "\tplt.rcParams.update(params)\n",
        "\tsns.set(font_scale = 1.1)\n",
        "\n",
        "\t# Plot Confusion Matrix using Seaborn heatmap()\n",
        "\t# Parameters:\n",
        "\t# first param - confusion matrix in array format\n",
        "\t# annot = True: show the numbers in each heatmap cell\n",
        "\t# fmt = 'd': show numbers as integers.\n",
        "\tax = sns.heatmap(conf_mat, annot=True, fmt='d', )\n",
        "\n",
        "\t# set x-axis label and ticks.\n",
        "\tax.set_xlabel(\"Predicted Diagnosis\", fontsize=14, labelpad=20)\n",
        "\tax.xaxis.set_ticklabels(['Negative', 'Positive'])\n",
        "\n",
        "\t# set y-axis label and ticks\n",
        "\tax.set_ylabel(\"Actual Diagnosis\", fontsize=14, labelpad=20)\n",
        "\tax.yaxis.set_ticklabels(['Negative', 'Positive'])\n",
        "\n",
        "\t# set plot title\n",
        "\tax.set_title(\"Confusion Matrix\", fontsize=14, pad=20)\n",
        "\n",
        "\tplt.show()"
      ]
    },
    {
      "cell_type": "markdown",
      "metadata": {
        "id": "YB7gei6XBuE_"
      },
      "source": [
        "Models chosen from task 2:\n",
        "1. DecisionTree,\n",
        "1. SVC,\n",
        "1. LogisticRegression,\n",
        "1. RidgeClassifier,\n",
        "1. KNeighborsClassifier"
      ]
    },
    {
      "cell_type": "code",
      "execution_count": null,
      "metadata": {
        "id": "dLAV9heDBuE_"
      },
      "outputs": [],
      "source": [
        "CV_SPLITS = 5\n",
        "models = {}"
      ]
    },
    {
      "cell_type": "code",
      "execution_count": null,
      "metadata": {
        "id": "diKLBssjBuE_"
      },
      "outputs": [],
      "source": [
        "def get_best_estimator(\n",
        "\testimator: BaseEstimator,\n",
        "\tparams_grid: dict,\n",
        "\tX: pd.DataFrame,\n",
        "\ty: pd.Series\n",
        "):\n",
        "\tclf = GridSearchCV(\n",
        "\t\testimator=estimator,\n",
        "\t\tparam_grid=params_grid,\n",
        "\t\tcv=KFold(n_splits=CV_SPLITS, shuffle=True, random_state=RS),\n",
        "\t\tn_jobs=5,\n",
        "\t\tscoring='roc_auc',\n",
        "\t\treturn_train_score=True\n",
        "\t)\n",
        "\n",
        "\tclf.fit(X, y)\n",
        "\n",
        "\tprint(f'Hyperparameters found:')\n",
        "\tdisplay(clf.best_params_)\n",
        "\tprint(f'Best score: {clf.best_score_:.4}')\n",
        "\n",
        "\treturn {'clf': clf.best_estimator_, 'auc': clf.best_score_, 'params': clf.best_params_}"
      ]
    },
    {
      "cell_type": "markdown",
      "metadata": {
        "id": "kswW0Jk2BuFA"
      },
      "source": [
        "To not re-train the models every time we run the notebook, we decided to save the best models to .pkl files."
      ]
    },
    {
      "cell_type": "code",
      "execution_count": null,
      "metadata": {
        "id": "9ikmYh17BuFA"
      },
      "outputs": [],
      "source": [
        "models_path = \"./models/\"\n",
        "\n",
        "def try_to_load_model(name: str):\n",
        "    if os.path.exists(f'{models_path}{name}.pkl'):\n",
        "        with open(f'{models_path}{name}.pkl', 'rb') as f:\n",
        "            model_data = pickle.load(f)\n",
        "            print(f'Loaded {name} model from file')\n",
        "            print(f'Hyperparameters:')\n",
        "            display(model_data[\"params\"])\n",
        "            print(f'Best score: {model_data[\"auc\"]:.4}')\n",
        "            return model_data\n",
        "    else:\n",
        "        print(f'No {name} model found')\n",
        "        return None\n",
        "\n",
        "def save_model(name: str, model):\n",
        "    print(f'Saving {name} model to file')\n",
        "    with open(f'{models_path}{name}.pkl', 'wb') as f:\n",
        "        pickle.dump(model, f)"
      ]
    },
    {
      "cell_type": "markdown",
      "metadata": {
        "id": "kMjWZtdsBuFA"
      },
      "source": [
        "### [Decision Tree](https://scikit-learn.org/stable/modules/tree.html)"
      ]
    },
    {
      "cell_type": "code",
      "execution_count": null,
      "metadata": {
        "id": "0Lt7FScsBuFA",
        "outputId": "97dd6fd7-1084-41eb-a256-ecd2b157a00e"
      },
      "outputs": [
        {
          "name": "stdout",
          "output_type": "stream",
          "text": [
            "Loaded DecisionTree model from file\n",
            "Hyperparameters:\n"
          ]
        },
        {
          "data": {
            "text/plain": [
              "{'criterion': 'entropy',\n",
              " 'max_depth': 12,\n",
              " 'max_features': 0.8,\n",
              " 'min_samples_leaf': 8,\n",
              " 'min_samples_split': 32}"
            ]
          },
          "metadata": {},
          "output_type": "display_data"
        },
        {
          "name": "stdout",
          "output_type": "stream",
          "text": [
            "Best score: 0.9535\n"
          ]
        }
      ],
      "source": [
        "NAME = 'DecisionTree'\n",
        "\n",
        "models[NAME] = try_to_load_model(NAME)\n",
        "\n",
        "if models[NAME] is None:\n",
        "    print(f'Training {NAME} model')\n",
        "\n",
        "    params_grid = {\n",
        "        'criterion': ['gini', 'entropy'],\n",
        "        'max_depth': [None, 4, 8, 12, 16, 20],\n",
        "        'max_features': [None, 0.2, 0.4, 0.6, 0.8],\n",
        "        'min_samples_leaf': [1, 2, 4, 8, 16, 32],\n",
        "        'min_samples_split': [2, 4, 8, 16, 32],\n",
        "    }\n",
        "\n",
        "    models[NAME] = {\n",
        "        **get_best_estimator(\n",
        "            estimator=DecisionTreeClassifier(random_state=RS),\n",
        "            params_grid=params_grid,\n",
        "            X=X_train, # don't have to be scaled\n",
        "            y=y_train\n",
        "        ),\n",
        "        'scaled': False\n",
        "    }\n",
        "\n",
        "    save_model(NAME, models[NAME])"
      ]
    },
    {
      "cell_type": "markdown",
      "metadata": {
        "id": "Qxx3ooWTBuFA"
      },
      "source": [
        "### [SVC](https://scikit-learn.org/stable/modules/generated/sklearn.svm.SVC.html#sklearn.svm.SVC)"
      ]
    },
    {
      "cell_type": "code",
      "execution_count": null,
      "metadata": {
        "id": "yx1qdkvVBuFA",
        "outputId": "10815393-4991-41d3-f661-54f2f46dc2ec"
      },
      "outputs": [
        {
          "name": "stdout",
          "output_type": "stream",
          "text": [
            "Loaded SVC model from file\n",
            "Hyperparameters:\n"
          ]
        },
        {
          "data": {
            "text/plain": [
              "{'C': 10, 'kernel': 'rbf'}"
            ]
          },
          "metadata": {},
          "output_type": "display_data"
        },
        {
          "name": "stdout",
          "output_type": "stream",
          "text": [
            "Best score: 0.9767\n"
          ]
        }
      ],
      "source": [
        "NAME = 'SVC'\n",
        "\n",
        "models[NAME] = try_to_load_model(NAME)\n",
        "\n",
        "if models[NAME] is None:\n",
        "    print(f'Training {NAME} model')\n",
        "\n",
        "    params_grid = {\n",
        "        'C': [0.1, 1, 10, 100],\n",
        "        'kernel': ['linear', 'poly', 'rbf', 'sigmoid'],\n",
        "    }\n",
        "\n",
        "    models[NAME] = {\n",
        "        **get_best_estimator(\n",
        "            estimator=SVC(random_state=RS),\n",
        "            params_grid=params_grid,\n",
        "            X=X_train_scaled, # should be scaled\n",
        "            y=y_train\n",
        "        ),\n",
        "        'scaled': True\n",
        "    }\n",
        "\n",
        "    save_model(NAME, models[NAME])"
      ]
    },
    {
      "cell_type": "markdown",
      "metadata": {
        "id": "XhLuQkZmBuFA"
      },
      "source": [
        "### [Logistic Regression](https://scikit-learn.org/stable/modules/generated/sklearn.linear_model.LogisticRegression.html)"
      ]
    },
    {
      "cell_type": "code",
      "execution_count": null,
      "metadata": {
        "id": "xzQnkUJvBuFA",
        "outputId": "7c7c9af9-96f5-4a69-d6c5-c490b93811e9"
      },
      "outputs": [
        {
          "name": "stdout",
          "output_type": "stream",
          "text": [
            "Loaded LogisticRegression model from file\n",
            "Hyperparameters:\n"
          ]
        },
        {
          "data": {
            "text/plain": [
              "{'C': 1, 'solver': 'lbfgs'}"
            ]
          },
          "metadata": {},
          "output_type": "display_data"
        },
        {
          "name": "stdout",
          "output_type": "stream",
          "text": [
            "Best score: 0.9416\n"
          ]
        }
      ],
      "source": [
        "NAME = 'LogisticRegression'\n",
        "\n",
        "models[NAME] = try_to_load_model(NAME)\n",
        "\n",
        "if models[NAME] is None:\n",
        "    print(f'Training {NAME} model')\n",
        "\n",
        "    params_grid = {\n",
        "        'C': [0.001, 0.01, 0.1, 1, 10, 100, 300, 500],\n",
        "        'solver': ['newton-cg', 'liblinear', 'lbfgs']\n",
        "    }\n",
        "\n",
        "    models[NAME] = {\n",
        "        **get_best_estimator(\n",
        "            estimator=LogisticRegression(random_state=RS, n_jobs=-1),\n",
        "            params_grid=params_grid,\n",
        "            X=X_train_scaled, # should be scaled\n",
        "            y=y_train\n",
        "        ),\n",
        "        'scaled': True\n",
        "    }\n",
        "\n",
        "    save_model(NAME, models[NAME])"
      ]
    },
    {
      "cell_type": "markdown",
      "metadata": {
        "id": "K4n8Mgf1BuFA"
      },
      "source": [
        "### [RidgeClassifier](https://scikit-learn.org/stable/modules/generated/sklearn.linear_model.RidgeClassifier.html#sklearn.linear_model.RidgeClassifier)"
      ]
    },
    {
      "cell_type": "code",
      "execution_count": null,
      "metadata": {
        "id": "ME1XDztuBuFA",
        "outputId": "8bbef864-e3af-485f-d463-3f38af4fa0f7"
      },
      "outputs": [
        {
          "name": "stdout",
          "output_type": "stream",
          "text": [
            "Loaded RidgeClassifier model from file\n",
            "Hyperparameters:\n"
          ]
        },
        {
          "data": {
            "text/plain": [
              "{'alpha': 0.001}"
            ]
          },
          "metadata": {},
          "output_type": "display_data"
        },
        {
          "name": "stdout",
          "output_type": "stream",
          "text": [
            "Best score: 0.9375\n"
          ]
        }
      ],
      "source": [
        "NAME = 'RidgeClassifier'\n",
        "\n",
        "models[NAME] = try_to_load_model(NAME)\n",
        "\n",
        "if models[NAME] is None:\n",
        "    print(f'Training {NAME} model')\n",
        "\n",
        "    params_grid = {\n",
        "        'alpha': [0.001, 0.01, 0.1, 1, 10, 100],\n",
        "    }\n",
        "\n",
        "    models[NAME] = {\n",
        "        **get_best_estimator(\n",
        "            estimator=RidgeClassifier(random_state=RS),\n",
        "            params_grid=params_grid,\n",
        "            X=X_train, # don't have to be scaled\n",
        "            y=y_train\n",
        "        ),\n",
        "        'scaled': False\n",
        "    }\n",
        "\n",
        "    save_model(NAME, models[NAME])"
      ]
    },
    {
      "cell_type": "markdown",
      "metadata": {
        "id": "PXBYQuvjBuFB"
      },
      "source": [
        "### [KNeighborsClassifier](https://scikit-learn.org/stable/modules/generated/sklearn.neighbors.KNeighborsClassifier.html#sklearn.neighbors.KNeighborsClassifier)"
      ]
    },
    {
      "cell_type": "code",
      "execution_count": null,
      "metadata": {
        "id": "vRGUOnTYBuFB",
        "outputId": "880f09aa-bb3f-4bdf-b3b7-1b779f4ab080"
      },
      "outputs": [
        {
          "name": "stdout",
          "output_type": "stream",
          "text": [
            "No KNeighborsClassifier model found\n",
            "Training KNeighborsClassifier model\n",
            "Hyperparameters found:\n"
          ]
        },
        {
          "data": {
            "text/plain": [
              "{'n_neighbors': 15, 'p': 1, 'weights': 'distance'}"
            ]
          },
          "metadata": {},
          "output_type": "display_data"
        },
        {
          "name": "stdout",
          "output_type": "stream",
          "text": [
            "Best score: 0.9742\n",
            "Saving KNeighborsClassifier model to file\n"
          ]
        }
      ],
      "source": [
        "NAME = 'KNeighborsClassifier'\n",
        "\n",
        "models[NAME] = try_to_load_model(NAME)\n",
        "\n",
        "if models[NAME] is None:\n",
        "    print(f'Training {NAME} model')\n",
        "\n",
        "    params_grid = {\n",
        "        'n_neighbors': [3, 7, 11, 15],\n",
        "        'weights': ['uniform', 'distance'],\n",
        "        'p': [1]\n",
        "    }\n",
        "\n",
        "    models[NAME] = {\n",
        "        **get_best_estimator(\n",
        "            estimator=KNeighborsClassifier(n_jobs=-1),\n",
        "            params_grid=params_grid,\n",
        "            X=X_train, # don't have to be scaled\n",
        "            y=y_train\n",
        "        ),\n",
        "        'scaled': False\n",
        "    }\n",
        "\n",
        "    save_model(NAME, models[NAME])"
      ]
    },
    {
      "cell_type": "markdown",
      "metadata": {
        "id": "vuudoYGzBuFB"
      },
      "source": [
        "### Best of all\n",
        "As we may see below, the results are slightly different to the previous ones. This time, SVC is the best model outperforming KNeighborsClassifier. However, this can be also due to the fact that we disabled too many neighbors for this model."
      ]
    },
    {
      "cell_type": "code",
      "execution_count": null,
      "metadata": {
        "id": "nStGsfGGBuFB",
        "outputId": "11a6b612-6dbd-48cf-a2ea-9a549b593c85"
      },
      "outputs": [
        {
          "name": "stdout",
          "output_type": "stream",
          "text": [
            "DecisionTree: 0.9535\n",
            "SVC: 0.9767\n",
            "LogisticRegression: 0.9416\n",
            "RidgeClassifier: 0.9375\n",
            "KNeighborsClassifier: 0.9742\n",
            "Best model: SVC\n"
          ]
        }
      ],
      "source": [
        "best = {}\n",
        "\n",
        "for name, model_data in models.items():\n",
        "\tprint(f\"{name}: {model_data['auc']:.4}\")\n",
        "\n",
        "\tif model_data['auc'] > best.get('auc', 0):\n",
        "\t\tbest = model_data\n",
        "\t\tbest['name'] = name\n",
        "\n",
        "print(f\"Best model: {best['name']}\")"
      ]
    },
    {
      "cell_type": "code",
      "execution_count": null,
      "metadata": {
        "id": "u3EXgZxXBuFB",
        "outputId": "fc1528f4-d90c-4a54-d6cd-e1409947688c"
      },
      "outputs": [
        {
          "name": "stdout",
          "output_type": "stream",
          "text": [
            "acc       0.9483\n",
            "f1        0.9472\n",
            "precision 0.9425\n",
            "recall    0.952\n"
          ]
        },
        {
          "data": {
            "image/png": "[encoded data removed]",
            "text/plain": [
              "<Figure size 800x600 with 2 Axes>"
            ]
          },
          "metadata": {},
          "output_type": "display_data"
        }
      ],
      "source": [
        "predicted = best['clf'].predict(X_test_scaled if best['scaled'] else X_test)\n",
        "\n",
        "print_metrics(y_test, predicted)\n",
        "plot_conf_mat(y_test, predicted)"
      ]
    }
  ],
  "metadata": {
    "kernelspec": {
      "display_name": "Python 3 (ipykernel)",
      "language": "python",
      "name": "python3"
    },
    "language_info": {
      "codemirror_mode": {
        "name": "ipython",
        "version": 3
      },
      "file_extension": ".py",
      "mimetype": "text/x-python",
      "name": "python",
      "nbconvert_exporter": "python",
      "pygments_lexer": "ipython3",
      "version": "3.10.9"
    },
    "vscode": {
      "interpreter": {
        "hash": "e1fc5167dfeb33453000ab5dfc85e5a47484e1d529642297843a34f05a9fa0aa"
      }
    },
    "colab": {
      "provenance": []
    }
  },
  "nbformat": 4,
  "nbformat_minor": 0
}